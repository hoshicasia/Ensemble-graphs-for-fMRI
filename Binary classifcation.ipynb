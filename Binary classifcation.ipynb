{
 "cells": [
  {
   "cell_type": "code",
   "execution_count": 1,
   "id": "c06d9cc7",
   "metadata": {},
   "outputs": [],
   "source": [
    "                                                                                                                                                                                                                              import pandas as pd\n",
    "import numpy as np\n",
    "import os\n",
    "import shutil\n",
    "import glob\n",
    "from tqdm import tqdm\n",
    "from multiprocessing import Pool, cpu_count\n",
    "from itertools import combinations\n",
    "from joblib import Parallel, delayed, dump\n",
    "from sklearn.linear_model import LogisticRegression\n",
    "from sklearn.model_selection import train_test_split\n",
    "from sklearn.preprocessing import LabelEncoder\n",
    "from sklearn.metrics import classification_report, accuracy_score\n",
    "from pathlib import Path\n",
    "from joblib import load\n",
    "from sklearn.model_selection import GridSearchCV\n",
    "from scipy.special import softmax  "
   ]
  },
  {
   "cell_type": "code",
   "execution_count": null,
   "id": "293d9203",
   "metadata": {},
   "outputs": [],
   "source": [
    "dataset = pd.read_pickle('pairwise_emotional_LR/dataset_v99_v110.pkl') "
   ]
  },
  {
   "cell_type": "code",
   "execution_count": 3,
   "id": "54c10cdd",
   "metadata": {},
   "outputs": [],
   "source": [
    "unique_sample_ids = dataset['sample_id'].unique()\n",
    "train_ids, test_ids = train_test_split(\n",
    "    unique_sample_ids,\n",
    "    test_size=0.25,\n",
    "    random_state=42,\n",
    "    stratify=None)"
   ]
  },
  {
   "cell_type": "code",
   "execution_count": null,
   "id": "590dd257",
   "metadata": {
    "scrolled": true
   },
   "outputs": [],
   "source": [
    "corr_graph_path = \"graph_LR.csv\"\n",
    "corr_df = pd.read_csv(corr_graph_path)  \n",
    "corr_map = dict(zip(corr_df['pair'], corr_df['weight']))"
   ]
  },
  {
   "cell_type": "code",
   "execution_count": 4,
   "id": "4a82bbc5",
   "metadata": {},
   "outputs": [],
   "source": [
    "train_ids_set = set(train_ids)\n",
    "test_ids_set  = set(test_ids)\n",
    "number_of_vertices =380\n",
    "features           = ['mean','std']"
   ]
  },
  {
   "cell_type": "code",
   "execution_count": 5,
   "id": "2f024304",
   "metadata": {},
   "outputs": [],
   "source": [
    "number_of_vertices = 380\n",
    "vertex_columns = np.arange(1, number_of_vertices)\n",
    "vertex_pairs = list(combinations(vertex_columns, 2))\n",
    "total_pairs = len(vertex_pairs)"
   ]
  },
  {
   "cell_type": "markdown",
   "id": "848c8c7e",
   "metadata": {},
   "source": [
    "# EMOTIONAL (LR) - Logistic regression (without corr)"
   ]
  },
  {
   "cell_type": "code",
   "execution_count": 11,
   "id": "1f28cdf6",
   "metadata": {},
   "outputs": [],
   "source": [
    "base_dir = 'vertices_mean_extended/EMOTIONAL/LR'  \n",
    "output_dir = 'pairwise_emotions'"
   ]
  },
  {
   "cell_type": "code",
   "execution_count": 5,
   "id": "78a167c0",
   "metadata": {},
   "outputs": [],
   "source": [
    "#features = ['mean', 'std', 'autocorr_lag1', 'n_peaks', 'mean_peak_amp', 'mean_interpeak_interval']\n",
    "features = ['mean', 'std']"
   ]
  },
  {
   "cell_type": "code",
   "execution_count": 33,
   "id": "2713fa58",
   "metadata": {},
   "outputs": [],
   "source": [
    "def create_pairwise_dataset(base_dir, features):\n",
    "    pattern = os.path.join(base_dir, '**', '*.pickle')\n",
    "    pickle_files = glob.glob(pattern, recursive=True)\n",
    "    all_files = []\n",
    "    for file_path in pickle_files:\n",
    "        data = pd.read_pickle(file_path)\n",
    "        class_label = file_path.split('_')[4].replace('.pickle', '')\n",
    "        data['class'] = class_label\n",
    "        data['sample_id'] = (file_path.split('/')[3]).split('_')[0]\n",
    "        all_files.append(data)\n",
    "\n",
    "\n",
    "    full_data = pd.concat(all_files)\n",
    "    full_data.reset_index(inplace=True)\n",
    "    full_data.rename(columns={'index': 'vertex'}, inplace=True)\n",
    "    full_data['vertex'] += 1\n",
    "    data = full_data.pivot_table(index=['sample_id', 'class'],\n",
    "                              columns='vertex',\n",
    "                              values=['mean', 'std'])\n",
    "    data.reset_index(inplace=True)\n",
    "    data.columns = [f\"{feat}_{vertex}\" if vertex else feat for feat, vertex in data.columns]\n",
    "    return data"
   ]
  },
  {
   "cell_type": "code",
   "execution_count": null,
   "id": "491bdaf9",
   "metadata": {},
   "outputs": [],
   "source": [
    "data = create_pairwise_dataset(base_dir, features)"
   ]
  },
  {
   "cell_type": "code",
   "execution_count": 37,
   "id": "d8693251",
   "metadata": {},
   "outputs": [],
   "source": [
    "def save_pairwise_dataset(pair, output_dir, feature_types, data):\n",
    "    v1, v2 = pair\n",
    "    os.makedirs(output_dir, exist_ok=True)\n",
    "    filename = os.path.join(output_dir, f'dataset_v{v1}_v{v2}.pkl')\n",
    "    if os.path.exists(filename):\n",
    "        print(f\"File already exists: {filename} - Skipping processing\")\n",
    "        return False\n",
    "\n",
    "    cols_to_extract = []\n",
    "    for feat in feature_types:\n",
    "        cols_to_extract.extend([f'{feat}_{v1}', f'{feat}_{v2}'])\n",
    "    cols_to_extract.extend(['class', 'sample_id'])\n",
    "    \n",
    "    try:\n",
    "        subset = data[cols_to_extract].copy()\n",
    "        \n",
    "        rename_dict = {}\n",
    "        for feat in feature_types:\n",
    "            rename_dict.update({\n",
    "                f'{feat}_{v1}': f'{feat}_v1',\n",
    "                f'{feat}_{v2}': f'{feat}_v2'\n",
    "            })\n",
    "        \n",
    "        subset.rename(columns=rename_dict, inplace=True)\n",
    "        subset.to_pickle(filename)\n",
    "        return True\n",
    "        \n",
    "    except Exception as e:\n",
    "        print(f\"Error processing pair ({v1}, {v2}): {str(e)}\")\n",
    "        return False\n",
    "    \n",
    "def process_pairs_in_parallel(pairs, output_dir, feature_types, data, num_processes=None):\n",
    "    if num_processes is None:\n",
    "        num_processes = max(1, cpu_count() - 1)\n",
    "\n",
    "    args = [\n",
    "        (pair, output_dir, feature_types, data)\n",
    "        for pair in pairs\n",
    "    ]\n",
    "\n",
    "    with Pool(processes=num_processes) as pool:\n",
    "        results = list(\n",
    "            tqdm(pool.starmap(save_pairwise_dataset, args), total=len(args))\n",
    "        )\n",
    "\n",
    "    success_count = sum(results)\n"
   ]
  },
  {
   "cell_type": "code",
   "execution_count": null,
   "id": "45896e23",
   "metadata": {},
   "outputs": [],
   "source": [
    "\n",
    "process_pairs_in_parallel(vertex_pairs, output_dir, features, data)"
   ]
  },
  {
   "cell_type": "code",
   "execution_count": 54,
   "id": "2c221d2e",
   "metadata": {},
   "outputs": [
    {
     "data": {
      "text/html": [
       "<style>#sk-container-id-4 {color: black;background-color: white;}#sk-container-id-4 pre{padding: 0;}#sk-container-id-4 div.sk-toggleable {background-color: white;}#sk-container-id-4 label.sk-toggleable__label {cursor: pointer;display: block;width: 100%;margin-bottom: 0;padding: 0.3em;box-sizing: border-box;text-align: center;}#sk-container-id-4 label.sk-toggleable__label-arrow:before {content: \"▸\";float: left;margin-right: 0.25em;color: #696969;}#sk-container-id-4 label.sk-toggleable__label-arrow:hover:before {color: black;}#sk-container-id-4 div.sk-estimator:hover label.sk-toggleable__label-arrow:before {color: black;}#sk-container-id-4 div.sk-toggleable__content {max-height: 0;max-width: 0;overflow: hidden;text-align: left;background-color: #f0f8ff;}#sk-container-id-4 div.sk-toggleable__content pre {margin: 0.2em;color: black;border-radius: 0.25em;background-color: #f0f8ff;}#sk-container-id-4 input.sk-toggleable__control:checked~div.sk-toggleable__content {max-height: 200px;max-width: 100%;overflow: auto;}#sk-container-id-4 input.sk-toggleable__control:checked~label.sk-toggleable__label-arrow:before {content: \"▾\";}#sk-container-id-4 div.sk-estimator input.sk-toggleable__control:checked~label.sk-toggleable__label {background-color: #d4ebff;}#sk-container-id-4 div.sk-label input.sk-toggleable__control:checked~label.sk-toggleable__label {background-color: #d4ebff;}#sk-container-id-4 input.sk-hidden--visually {border: 0;clip: rect(1px 1px 1px 1px);clip: rect(1px, 1px, 1px, 1px);height: 1px;margin: -1px;overflow: hidden;padding: 0;position: absolute;width: 1px;}#sk-container-id-4 div.sk-estimator {font-family: monospace;background-color: #f0f8ff;border: 1px dotted black;border-radius: 0.25em;box-sizing: border-box;margin-bottom: 0.5em;}#sk-container-id-4 div.sk-estimator:hover {background-color: #d4ebff;}#sk-container-id-4 div.sk-parallel-item::after {content: \"\";width: 100%;border-bottom: 1px solid gray;flex-grow: 1;}#sk-container-id-4 div.sk-label:hover label.sk-toggleable__label {background-color: #d4ebff;}#sk-container-id-4 div.sk-serial::before {content: \"\";position: absolute;border-left: 1px solid gray;box-sizing: border-box;top: 0;bottom: 0;left: 50%;z-index: 0;}#sk-container-id-4 div.sk-serial {display: flex;flex-direction: column;align-items: center;background-color: white;padding-right: 0.2em;padding-left: 0.2em;position: relative;}#sk-container-id-4 div.sk-item {position: relative;z-index: 1;}#sk-container-id-4 div.sk-parallel {display: flex;align-items: stretch;justify-content: center;background-color: white;position: relative;}#sk-container-id-4 div.sk-item::before, #sk-container-id-4 div.sk-parallel-item::before {content: \"\";position: absolute;border-left: 1px solid gray;box-sizing: border-box;top: 0;bottom: 0;left: 50%;z-index: -1;}#sk-container-id-4 div.sk-parallel-item {display: flex;flex-direction: column;z-index: 1;position: relative;background-color: white;}#sk-container-id-4 div.sk-parallel-item:first-child::after {align-self: flex-end;width: 50%;}#sk-container-id-4 div.sk-parallel-item:last-child::after {align-self: flex-start;width: 50%;}#sk-container-id-4 div.sk-parallel-item:only-child::after {width: 0;}#sk-container-id-4 div.sk-dashed-wrapped {border: 1px dashed gray;margin: 0 0.4em 0.5em 0.4em;box-sizing: border-box;padding-bottom: 0.4em;background-color: white;}#sk-container-id-4 div.sk-label label {font-family: monospace;font-weight: bold;display: inline-block;line-height: 1.2em;}#sk-container-id-4 div.sk-label-container {text-align: center;}#sk-container-id-4 div.sk-container {/* jupyter's `normalize.less` sets `[hidden] { display: none; }` but bootstrap.min.css set `[hidden] { display: none !important; }` so we also need the `!important` here to be able to override the default hidden behavior on the sphinx rendered scikit-learn.org. See: https://github.com/scikit-learn/scikit-learn/issues/21755 */display: inline-block !important;position: relative;}#sk-container-id-4 div.sk-text-repr-fallback {display: none;}</style><div id=\"sk-container-id-4\" class=\"sk-top-container\"><div class=\"sk-text-repr-fallback\"><pre>LabelEncoder()</pre><b>In a Jupyter environment, please rerun this cell to show the HTML representation or trust the notebook. <br />On GitHub, the HTML representation is unable to render, please try loading this page with nbviewer.org.</b></div><div class=\"sk-container\" hidden><div class=\"sk-item\"><div class=\"sk-estimator sk-toggleable\"><input class=\"sk-toggleable__control sk-hidden--visually\" id=\"sk-estimator-id-4\" type=\"checkbox\" checked><label for=\"sk-estimator-id-4\" class=\"sk-toggleable__label sk-toggleable__label-arrow\">LabelEncoder</label><div class=\"sk-toggleable__content\"><pre>LabelEncoder()</pre></div></div></div></div></div>"
      ],
      "text/plain": [
       "LabelEncoder()"
      ]
     },
     "execution_count": 54,
     "metadata": {},
     "output_type": "execute_result"
    }
   ],
   "source": [
    "le_global = LabelEncoder()\n",
    "le_global.fit(['neut', 'fear']) "
   ]
  },
  {
   "cell_type": "code",
   "execution_count": 54,
   "id": "59fc448c",
   "metadata": {},
   "outputs": [],
   "source": [
    "def train_logistic_regression(dataset_path, model_output_dir, report_output_dir, feature_bases, le = le_global):\n",
    "    filename = os.path.basename(dataset_path)\n",
    "    v1, v2 = filename.replace('dataset_v', '').replace('.pkl', '').split('_v')\n",
    "    df = pd.read_pickle(dataset_path)\n",
    "\n",
    "    df['class_encoded'] = le.transform(df['class'])\n",
    "\n",
    "    train_data = df[df['sample_id'].isin(train_ids)].reset_index(drop=True)\n",
    "    test_data = df[df['sample_id'].isin(test_ids)].reset_index(drop=True)\n",
    "\n",
    "    feature_columns = [f\"{base}_{v}\" for base in feature_bases for v in ('v1', 'v2')]\n",
    "\n",
    "    X_train = train_data[feature_columns].values\n",
    "    y_train = train_data['class_encoded'].values\n",
    "    X_test = test_data[feature_columns].values\n",
    "    y_test = test_data['class_encoded'].values\n",
    "\n",
    "\n",
    "    model = LogisticRegression(multi_class='ovr', solver='lbfgs',\n",
    "                               max_iter=10000, n_jobs=1)\n",
    "    model.fit(X_train, y_train)\n",
    "\n",
    "    #if evaluation is needed\n",
    "#     y_pred = model.predict(X_test)\n",
    "#     accuracy = accuracy_score(y_test, y_pred)\n",
    "#     print(f\"Test accuracy: {accuracy:.4f}\")\n",
    "\n",
    "    # report = classification_report(y_test, y_pred,\n",
    "                                   # target_names=le.classes_,\n",
    "                                   # output_dict=True,\n",
    "                                   # zero_division=0)\n",
    "\n",
    "    # report_filename = f'report_v{v1}_v{v2}.json'\n",
    "    # report_path = os.path.join(report_output_dir, report_filename)\n",
    "    # with open(report_path, 'w') as f:\n",
    "    #     json.dump(report, f, indent=4)\n",
    "\n",
    "    model_filename = f'logreg_v{v1}_v{v2}.joblib'\n",
    "    model_path = os.path.join(model_output_dir, model_filename)\n",
    "    dump({'model': model, 'label_encoder': le}, model_path)\n"
   ]
  },
  {
   "cell_type": "code",
   "execution_count": 12,
   "id": "48a961bd",
   "metadata": {},
   "outputs": [
    {
     "name": "stdout",
     "output_type": "stream",
     "text": [
      "Найдено 71631 парных датасетов.\n"
     ]
    }
   ],
   "source": [
    "dataset_dir = output_dir \n",
    "dataset_files = [\n",
    "    os.path.join(dataset_dir, fname) \n",
    "    for fname in os.listdir(dataset_dir) \n",
    "    if fname.endswith('.pkl')\n",
    "]\n",
    "print(f\"Найдено {len(dataset_files)} парных датасетов.\")"
   ]
  },
  {
   "cell_type": "code",
   "execution_count": 135,
   "id": "e298ccb0",
   "metadata": {},
   "outputs": [
    {
     "name": "stderr",
     "output_type": "stream",
     "text": [
      "  0%|                                       | 103/71631 [00:01<15:50, 75.25it/s]\n",
      "\n",
      "100%|█████████████████████████████████████| 71631/71631 [17:12<00:00, 69.40it/s]\u001b[A\u001b[A\n"
     ]
    }
   ],
   "source": [
    "model_output_dir = 'models_emotional'\n",
    "report_output_dir = 'training_reports_emotional'\n",
    "os.makedirs(model_output_dir, exist_ok=True)\n",
    "os.makedirs(report_output_dir, exist_ok=True)\n",
    "results = Parallel(n_jobs=1)(\n",
    "    delayed(train_logistic_regression)(\n",
    "        dataset_path=path, \n",
    "        model_output_dir=model_output_dir, \n",
    "        report_output_dir=report_output_dir,\n",
    "        feature_bases = features\n",
    "    ) for path in tqdm(dataset_files)\n",
    ")"
   ]
  },
  {
   "cell_type": "code",
   "execution_count": 9,
   "id": "8a113fa5",
   "metadata": {},
   "outputs": [],
   "source": [
    "pkl_paths = []\n",
    "base_dir = 'vertices_mean_extended/'  \n",
    "subfolders = ['EMOTIONAL/LR']\n",
    "\n",
    "for subfolder in subfolders:\n",
    "    folder_path = os.path.join(base_dir, subfolder)  \n",
    "    for test_id in test_ids:\n",
    "        for filename in os.listdir(folder_path):\n",
    "            if test_id in filename and filename.endswith('.pickle'):\n",
    "                pkl_paths.append(os.path.join(folder_path, filename))"
   ]
  },
  {
   "cell_type": "code",
   "execution_count": 138,
   "id": "ba1d96cd",
   "metadata": {},
   "outputs": [],
   "source": [
    "models_dir = 'models_emotional'\n",
    "models = {}\n",
    "for i in range(1, number_of_vertices):  \n",
    "    for j in range(i + 1, number_of_vertices):\n",
    "        model_name = f'logreg_v{i}_v{j}.joblib'\n",
    "        model_path = os.path.join(models_dir, model_name)\n",
    "        if os.path.exists(model_path):\n",
    "            models[(i, j)] = load(model_path)['model']"
   ]
  },
  {
   "cell_type": "code",
   "execution_count": 139,
   "id": "fb9073e7",
   "metadata": {},
   "outputs": [],
   "source": [
    "def process_pair(v1, v2, data_np, models):\n",
    "    model = models.get((v1 + 1, v2 + 1))\n",
    "    if model is None:\n",
    "        raise ValueError(f\"Модель для вершин ({v1 + 1}, {v2 + 1}) не найдена.\")\n",
    "    pair_data = np.hstack((data_np[v1], data_np[v2])).reshape(1, -1)\n",
    "    probabilities = model.predict_proba(pair_data)[0]\n",
    "    return probabilities"
   ]
  },
  {
   "cell_type": "markdown",
   "id": "3162c3fc",
   "metadata": {},
   "source": [
    "# Prediction with argmax of average"
   ]
  },
  {
   "cell_type": "code",
   "execution_count": 140,
   "id": "c423fe9d",
   "metadata": {},
   "outputs": [
    {
     "name": "stderr",
     "output_type": "stream",
     "text": [
      "100%|███████████████████████████████████████| 292/292 [1:06:53<00:00, 13.74s/it]"
     ]
    },
    {
     "name": "stdout",
     "output_type": "stream",
     "text": [
      "Total accuracy: 0.5719\n"
     ]
    },
    {
     "name": "stderr",
     "output_type": "stream",
     "text": [
      "\n"
     ]
    }
   ],
   "source": [
    "correct_predictions = 0\n",
    "total_files = len(pkl_paths)\n",
    "prediction_results = []\n",
    "pairs = list(combinations(range(number_of_vertices - 1), 2))\n",
    "                            \n",
    "for file_path in tqdm(pkl_paths):\n",
    "    data = pd.read_pickle(file_path)\n",
    "    data_np = data[features].values  \n",
    "    true_class = file_path.split('_')[4].split('.')[0]\n",
    "    \n",
    "    results = Parallel(n_jobs=1)(\n",
    "        delayed(process_pair)(i, j, data_np, models)\n",
    "        for i, j in pairs\n",
    "    )\n",
    "    total_probabilities = np.sum(results, axis=0)\n",
    " \n",
    "    average_probabilities = total_probabilities / len(results)\n",
    "    predicted_class_index = np.argmax(average_probabilities)\n",
    "    predicted_class = le.inverse_transform([predicted_class_index])[0]\n",
    "    \n",
    "    if predicted_class == true_class:\n",
    "        correct_predictions += 1\n",
    "    prediction_results.append({\n",
    "        'file_path': file_path,\n",
    "        'true_class': true_class,\n",
    "        'predicted_class': predicted_class,\n",
    "        'confidence': average_probabilities[predicted_class_index]\n",
    "    })\n",
    "    \n",
    "accuracy = correct_predictions / total_files\n",
    "print(f'Total accuracy: {accuracy:.4f}')"
   ]
  },
  {
   "cell_type": "code",
   "execution_count": 141,
   "id": "692ceb85",
   "metadata": {},
   "outputs": [],
   "source": [
    "results_df = pd.DataFrame(prediction_results)\n",
    "results_df.to_csv('prediction_results_emotional_v1.csv', index=False)"
   ]
  },
  {
   "cell_type": "code",
   "execution_count": 142,
   "id": "36c61605",
   "metadata": {},
   "outputs": [
    {
     "name": "stdout",
     "output_type": "stream",
     "text": [
      "Accuracy per each class:\n",
      "true_class\n",
      "neut    97.260274\n",
      "fear    17.123288\n",
      "Name: Accuracy (%), dtype: float64\n"
     ]
    }
   ],
   "source": [
    "df = pd.read_csv('prediction_results_emotional_v1.csv')\n",
    "df['correct'] = df['true_class'] == df['predicted_class']\n",
    "accuracy_per_class = df.groupby('true_class')['correct'].mean()\n",
    "accuracy_per_class = accuracy_per_class * 100\n",
    "accuracy_per_class = accuracy_per_class.rename('Accuracy (%)')\n",
    "accuracy_per_class = accuracy_per_class.sort_values(ascending=False)\n",
    "\n",
    "print(\"Accuracy per each class:\")\n",
    "print(accuracy_per_class)\n",
    "\n"
   ]
  },
  {
   "cell_type": "code",
   "execution_count": 143,
   "id": "c8e05da6",
   "metadata": {},
   "outputs": [
    {
     "name": "stdout",
     "output_type": "stream",
     "text": [
      "              precision    recall  f1-score   support\n",
      "\n",
      "        fear       0.86      0.17      0.29       146\n",
      "        neut       0.54      0.97      0.69       146\n",
      "\n",
      "    accuracy                           0.57       292\n",
      "   macro avg       0.70      0.57      0.49       292\n",
      "weighted avg       0.70      0.57      0.49       292\n",
      "\n"
     ]
    }
   ],
   "source": [
    "from sklearn.metrics import confusion_matrix, classification_report\n",
    "import matplotlib.pyplot as plt\n",
    "import seaborn as sns\n",
    "\n",
    "cm = confusion_matrix(df['true_class'], df['predicted_class'])\n",
    "\n",
    "print(classification_report(df['true_class'], df['predicted_class']))"
   ]
  },
  {
   "cell_type": "code",
   "execution_count": 144,
   "id": "79be702a",
   "metadata": {},
   "outputs": [
    {
     "data": {
      "image/png": "[encoded data removed]",
      "text/plain": [
       "<Figure size 1000x800 with 2 Axes>"
      ]
     },
     "metadata": {},
     "output_type": "display_data"
    }
   ],
   "source": [
    "\n",
    "plt.figure(figsize=(10, 8))\n",
    "sns.heatmap(cm, annot=True, fmt='d', cmap='Blues', \n",
    "            xticklabels=df['true_class'].unique(), \n",
    "            yticklabels=df['true_class'].unique())\n",
    "plt.xlabel('Predicted')\n",
    "plt.ylabel('True')\n",
    "plt.title('Confusion Matrix')\n",
    "plt.show()"
   ]
  },
  {
   "cell_type": "markdown",
   "id": "abd5b92e",
   "metadata": {},
   "source": [
    "## Log-sum exp"
   ]
  },
  {
   "cell_type": "code",
   "execution_count": 147,
   "id": "d72e3869",
   "metadata": {},
   "outputs": [
    {
     "name": "stderr",
     "output_type": "stream",
     "text": [
      "100%|█████████████████████████████████████████| 292/292 [56:39<00:00, 11.64s/it]"
     ]
    },
    {
     "name": "stdout",
     "output_type": "stream",
     "text": [
      "Total accuracy: 0.5719\n"
     ]
    },
    {
     "name": "stderr",
     "output_type": "stream",
     "text": [
      "\n"
     ]
    }
   ],
   "source": [
    "from scipy.special import logsumexp\n",
    "\n",
    "correct_predictions = 0\n",
    "total_files = len(pkl_paths)\n",
    "prediction_results = []\n",
    "pairs = list(combinations(range(number_of_vertices - 1), 2))\n",
    "                            \n",
    "for file_path in tqdm(pkl_paths):\n",
    "    data = pd.read_pickle(file_path)\n",
    "    data_np = data[features].values  \n",
    "    true_class = file_path.split('_')[4].split('.')[0]\n",
    "    \n",
    "    results = Parallel(n_jobs=1)(\n",
    "        delayed(process_pair)(i, j, data_np, models)\n",
    "        for i, j in pairs\n",
    "    )\n",
    "    results = np.array(results) \n",
    "    log_probs = np.log(results + 1e-12)  \n",
    "    aggregated_log_probs = logsumexp(log_probs, axis=0) \n",
    "\n",
    "    predicted_class_index = np.argmax(aggregated_log_probs)\n",
    "    predicted_class = le.inverse_transform([predicted_class_index])[0]\n",
    "    \n",
    "    if predicted_class == true_class:\n",
    "        correct_predictions += 1\n",
    "    prediction_results.append({\n",
    "        'file_path': file_path,\n",
    "        'true_class': true_class,\n",
    "        'predicted_class': predicted_class,\n",
    "        'confidence': average_probabilities[predicted_class_index]\n",
    "    })\n",
    "    \n",
    "accuracy = correct_predictions / total_files\n",
    "print(f'Total accuracy: {accuracy:.4f}')"
   ]
  },
  {
   "cell_type": "code",
   "execution_count": 148,
   "id": "c9c566c0",
   "metadata": {},
   "outputs": [],
   "source": [
    "results_df = pd.DataFrame(prediction_results)\n",
    "results_df.to_csv('prediction_results_emotional_logsumexp.csv', index=False)"
   ]
  },
  {
   "cell_type": "markdown",
   "id": "e1630432",
   "metadata": {},
   "source": [
    "# EMOTIONAL (LR) - Logistic regression (with corr)"
   ]
  },
  {
   "cell_type": "code",
   "execution_count": 15,
   "id": "60680e53",
   "metadata": {},
   "outputs": [],
   "source": [
    "\n",
    "def train_logistic_regression(dataset_path,\n",
    "                              model_output_dir,\n",
    "                              feature_bases,\n",
    "                              corr_map,\n",
    "                              le):\n",
    "\n",
    "    fname = os.path.basename(dataset_path)\n",
    "    v1, v2 = fname.replace('dataset_v', '').replace('.pkl', '').split('_v')\n",
    "    \n",
    "    model_fname = f'logreg_v{v1}_v{v2}.joblib'\n",
    "    model_path  = os.path.join(model_output_dir, model_fname)\n",
    "    if os.path.exists(model_path):\n",
    "        return True\n",
    "\n",
    "    df = pd.read_pickle(dataset_path)\n",
    "    df['class_encoded'] = le.transform(df['class'])\n",
    "    \n",
    "    pair1 = f\"{v1}_{v2}\"\n",
    "    pair2 = f\"{v2}_{v1}\"\n",
    "    corr_value = corr_map.get(pair1, corr_map.get(pair2, 0.0))\n",
    "    df['corr'] = corr_value\n",
    "    \n",
    "    feature_cols = [f\"{base}_v1\" for base in feature_bases] + \\\n",
    "                   [f\"{base}_v2\" for base in feature_bases] + \\\n",
    "                   ['corr']\n",
    "    \n",
    "    mask_train = df['sample_id'].isin(train_ids_set)\n",
    "    mask_test  = df['sample_id'].isin(test_ids_set)\n",
    "    \n",
    "    X_train = df.loc[mask_train, feature_cols].values\n",
    "    y_train = df.loc[mask_train, 'class_encoded'].values\n",
    "    X_test  = df.loc[mask_test,  feature_cols].values\n",
    "    y_test  = df.loc[mask_test,  'class_encoded'].values\n",
    "    \n",
    "    model = LogisticRegression(\n",
    "        multi_class='ovr',\n",
    "        solver='lbfgs',\n",
    "        max_iter=10000,\n",
    "        n_jobs=-1           \n",
    "    )\n",
    "    model.fit(X_train, y_train)\n",
    "\n",
    "    dump({'model': model, 'label_encoder': le}, model_path)"
   ]
  },
  {
   "cell_type": "code",
   "execution_count": null,
   "id": "e3624ecd",
   "metadata": {
    "scrolled": true
   },
   "outputs": [],
   "source": [
    "model_output_dir = 'models_emotional_corr'\n",
    "report_output_dir = 'training_reports_emotional_corr'\n",
    "os.makedirs(model_output_dir, exist_ok=True)\n",
    "os.makedirs(report_output_dir, exist_ok=True)\n",
    "results = Parallel(n_jobs=1)(\n",
    "    delayed(train_logistic_regression)(\n",
    "        dataset_path=path, \n",
    "        model_output_dir=model_output_dir, \n",
    "        feature_bases = features,\n",
    "        corr_map = corr_map\n",
    "    ) for path in tqdm(dataset_files)\n",
    ")"
   ]
  },
  {
   "cell_type": "code",
   "execution_count": 8,
   "id": "d75666ca",
   "metadata": {},
   "outputs": [],
   "source": [
    "models_dir = 'models_emotional_corr'\n",
    "models = {}\n",
    "for i in range(1, number_of_vertices):  \n",
    "    for j in range(i + 1, number_of_vertices):\n",
    "        model_name = f'logreg_v{i}_v{j}.joblib'\n",
    "        model_path = os.path.join(models_dir, model_name)\n",
    "        if os.path.exists(model_path):\n",
    "            models[(i, j)] = load(model_path)['model']"
   ]
  },
  {
   "cell_type": "code",
   "execution_count": 9,
   "id": "bc6241d9",
   "metadata": {},
   "outputs": [
    {
     "name": "stdout",
     "output_type": "stream",
     "text": [
      "Will test on 71631 modelled pairs.\n"
     ]
    }
   ],
   "source": [
    "pairs = sorted(models.keys())\n",
    "print(f\"Will test on {len(pairs)} modelled pairs.\")"
   ]
  },
  {
   "cell_type": "code",
   "execution_count": null,
   "id": "9fe4de7f",
   "metadata": {},
   "outputs": [],
   "source": [
    "test_base_dir      = \"vertices_mean_extended/EMOTIONAL/LR\""
   ]
  },
  {
   "cell_type": "code",
   "execution_count": 22,
   "id": "ba40f71d",
   "metadata": {},
   "outputs": [],
   "source": [
    "pkl_paths = []\n",
    "base_dir = 'vertices_mean_extended/'  \n",
    "subfolders = ['EMOTIONAL/LR']\n",
    "\n",
    "for subfolder in subfolders:\n",
    "    folder_path = os.path.join(base_dir, subfolder)  \n",
    "    for test_id in test_ids:\n",
    "        for filename in os.listdir(folder_path):\n",
    "            if test_id in filename and filename.endswith('.pickle'):\n",
    "                pkl_paths.append(os.path.join(folder_path, filename))"
   ]
  },
  {
   "cell_type": "code",
   "execution_count": 13,
   "id": "c273b84a",
   "metadata": {},
   "outputs": [],
   "source": [
    "def process_pair(i, j, data_np):\n",
    "    key = (i, j) if (i, j) in models else (j, i)\n",
    "    model = models[key]\n",
    "    xi = data_np[i-1] \n",
    "    xj = data_np[j-1]\n",
    "    pair_key = f\"{i}_{j}\" if f\"{i}_{j}\" in corr_map else f\"{j}_{i}\"\n",
    "    corr = corr_map.get(pair_key, 0.0)\n",
    "    x = np.hstack((xi, xj, corr)).reshape(1, -1)\n",
    "    return model.predict_proba(x)[0]"
   ]
  },
  {
   "cell_type": "code",
   "execution_count": 10,
   "id": "6eff124e",
   "metadata": {},
   "outputs": [
    {
     "data": {
      "text/html": [
       "<style>#sk-container-id-1 {color: black;background-color: white;}#sk-container-id-1 pre{padding: 0;}#sk-container-id-1 div.sk-toggleable {background-color: white;}#sk-container-id-1 label.sk-toggleable__label {cursor: pointer;display: block;width: 100%;margin-bottom: 0;padding: 0.3em;box-sizing: border-box;text-align: center;}#sk-container-id-1 label.sk-toggleable__label-arrow:before {content: \"▸\";float: left;margin-right: 0.25em;color: #696969;}#sk-container-id-1 label.sk-toggleable__label-arrow:hover:before {color: black;}#sk-container-id-1 div.sk-estimator:hover label.sk-toggleable__label-arrow:before {color: black;}#sk-container-id-1 div.sk-toggleable__content {max-height: 0;max-width: 0;overflow: hidden;text-align: left;background-color: #f0f8ff;}#sk-container-id-1 div.sk-toggleable__content pre {margin: 0.2em;color: black;border-radius: 0.25em;background-color: #f0f8ff;}#sk-container-id-1 input.sk-toggleable__control:checked~div.sk-toggleable__content {max-height: 200px;max-width: 100%;overflow: auto;}#sk-container-id-1 input.sk-toggleable__control:checked~label.sk-toggleable__label-arrow:before {content: \"▾\";}#sk-container-id-1 div.sk-estimator input.sk-toggleable__control:checked~label.sk-toggleable__label {background-color: #d4ebff;}#sk-container-id-1 div.sk-label input.sk-toggleable__control:checked~label.sk-toggleable__label {background-color: #d4ebff;}#sk-container-id-1 input.sk-hidden--visually {border: 0;clip: rect(1px 1px 1px 1px);clip: rect(1px, 1px, 1px, 1px);height: 1px;margin: -1px;overflow: hidden;padding: 0;position: absolute;width: 1px;}#sk-container-id-1 div.sk-estimator {font-family: monospace;background-color: #f0f8ff;border: 1px dotted black;border-radius: 0.25em;box-sizing: border-box;margin-bottom: 0.5em;}#sk-container-id-1 div.sk-estimator:hover {background-color: #d4ebff;}#sk-container-id-1 div.sk-parallel-item::after {content: \"\";width: 100%;border-bottom: 1px solid gray;flex-grow: 1;}#sk-container-id-1 div.sk-label:hover label.sk-toggleable__label {background-color: #d4ebff;}#sk-container-id-1 div.sk-serial::before {content: \"\";position: absolute;border-left: 1px solid gray;box-sizing: border-box;top: 0;bottom: 0;left: 50%;z-index: 0;}#sk-container-id-1 div.sk-serial {display: flex;flex-direction: column;align-items: center;background-color: white;padding-right: 0.2em;padding-left: 0.2em;position: relative;}#sk-container-id-1 div.sk-item {position: relative;z-index: 1;}#sk-container-id-1 div.sk-parallel {display: flex;align-items: stretch;justify-content: center;background-color: white;position: relative;}#sk-container-id-1 div.sk-item::before, #sk-container-id-1 div.sk-parallel-item::before {content: \"\";position: absolute;border-left: 1px solid gray;box-sizing: border-box;top: 0;bottom: 0;left: 50%;z-index: -1;}#sk-container-id-1 div.sk-parallel-item {display: flex;flex-direction: column;z-index: 1;position: relative;background-color: white;}#sk-container-id-1 div.sk-parallel-item:first-child::after {align-self: flex-end;width: 50%;}#sk-container-id-1 div.sk-parallel-item:last-child::after {align-self: flex-start;width: 50%;}#sk-container-id-1 div.sk-parallel-item:only-child::after {width: 0;}#sk-container-id-1 div.sk-dashed-wrapped {border: 1px dashed gray;margin: 0 0.4em 0.5em 0.4em;box-sizing: border-box;padding-bottom: 0.4em;background-color: white;}#sk-container-id-1 div.sk-label label {font-family: monospace;font-weight: bold;display: inline-block;line-height: 1.2em;}#sk-container-id-1 div.sk-label-container {text-align: center;}#sk-container-id-1 div.sk-container {/* jupyter's `normalize.less` sets `[hidden] { display: none; }` but bootstrap.min.css set `[hidden] { display: none !important; }` so we also need the `!important` here to be able to override the default hidden behavior on the sphinx rendered scikit-learn.org. See: https://github.com/scikit-learn/scikit-learn/issues/21755 */display: inline-block !important;position: relative;}#sk-container-id-1 div.sk-text-repr-fallback {display: none;}</style><div id=\"sk-container-id-1\" class=\"sk-top-container\"><div class=\"sk-text-repr-fallback\"><pre>LabelEncoder()</pre><b>In a Jupyter environment, please rerun this cell to show the HTML representation or trust the notebook. <br />On GitHub, the HTML representation is unable to render, please try loading this page with nbviewer.org.</b></div><div class=\"sk-container\" hidden><div class=\"sk-item\"><div class=\"sk-estimator sk-toggleable\"><input class=\"sk-toggleable__control sk-hidden--visually\" id=\"sk-estimator-id-1\" type=\"checkbox\" checked><label for=\"sk-estimator-id-1\" class=\"sk-toggleable__label sk-toggleable__label-arrow\">LabelEncoder</label><div class=\"sk-toggleable__content\"><pre>LabelEncoder()</pre></div></div></div></div></div>"
      ],
      "text/plain": [
       "LabelEncoder()"
      ]
     },
     "execution_count": 10,
     "metadata": {},
     "output_type": "execute_result"
    }
   ],
   "source": [
    "le = LabelEncoder()\n",
    "le.fit(['neut', 'fear']) "
   ]
  },
  {
   "cell_type": "code",
   "execution_count": 16,
   "id": "b779fe6a",
   "metadata": {},
   "outputs": [
    {
     "name": "stderr",
     "output_type": "stream",
     "text": [
      "Loading all pkls: 100%|███████████████████| 1162/1162 [00:00<00:00, 2014.48it/s]\n"
     ]
    }
   ],
   "source": [
    "all_data = {p: pd.read_pickle(p) for p in tqdm(pkl_paths, desc=\"Loading all pkls\")}\n"
   ]
  },
  {
   "cell_type": "code",
   "execution_count": 17,
   "id": "03158d38",
   "metadata": {},
   "outputs": [],
   "source": [
    "data_matrix = {p: df[features].values for p, df in all_data.items()}"
   ]
  },
  {
   "cell_type": "code",
   "execution_count": 18,
   "id": "9a234028",
   "metadata": {},
   "outputs": [],
   "source": [
    "def predict_for_sample(pkl):\n",
    "    data_np = data_matrix[pkl]\n",
    "    true_cls = true_labels[pkl]\n",
    "\n",
    "    probas = Parallel(n_jobs=-1)(\n",
    "        delayed(process_pair)(i, j, data_np)\n",
    "        for i, j in pairs\n",
    "    )\n",
    "    total = np.sum(probas, axis=0)\n",
    "    avg = total / len(pairs)\n",
    "    pred_idx = np.argmax(avg)\n",
    "    pred_cls = le.inverse_transform([pred_idx])[0]\n",
    "    conf = avg[pred_idx]\n",
    "\n",
    "    return {\n",
    "        'file': pkl,\n",
    "        'true': true_cls,\n",
    "        'pred': pred_cls,\n",
    "        'conf': float(conf),\n",
    "        'correct': pred_cls == true_cls\n",
    "    }\n"
   ]
  },
  {
   "cell_type": "code",
   "execution_count": null,
   "id": "5bfeba2a",
   "metadata": {},
   "outputs": [],
   "source": [
    "results = Parallel(n_jobs=-1)(\n",
    "    delayed(predict_for_sample)(p) for p in tqdm(pkl_paths)\n",
    ")\n",
    "\n",
    "accuracy = sum(r['correct'] for r in results) / len(results)\n",
    "print(f\"Total accuracy: {accuracy:.4f}\")\n"
   ]
  },
  {
   "cell_type": "code",
   "execution_count": 24,
   "id": "92b723f6",
   "metadata": {},
   "outputs": [
    {
     "data": {
      "text/html": [
       "<div>\n",
       "<style scoped>\n",
       "    .dataframe tbody tr th:only-of-type {\n",
       "        vertical-align: middle;\n",
       "    }\n",
       "\n",
       "    .dataframe tbody tr th {\n",
       "        vertical-align: top;\n",
       "    }\n",
       "\n",
       "    .dataframe thead th {\n",
       "        text-align: right;\n",
       "    }\n",
       "</style>\n",
       "<table border=\"1\" class=\"dataframe\">\n",
       "  <thead>\n",
       "    <tr style=\"text-align: right;\">\n",
       "      <th></th>\n",
       "      <th>file</th>\n",
       "      <th>true</th>\n",
       "      <th>pred</th>\n",
       "      <th>conf</th>\n",
       "      <th>correct</th>\n",
       "    </tr>\n",
       "  </thead>\n",
       "  <tbody>\n",
       "    <tr>\n",
       "      <th>0</th>\n",
       "      <td>vertices_mean_extended/EMOTIONAL/LR/990366_LR_...</td>\n",
       "      <td>fear</td>\n",
       "      <td>neut</td>\n",
       "      <td>0.529063</td>\n",
       "      <td>False</td>\n",
       "    </tr>\n",
       "    <tr>\n",
       "      <th>1</th>\n",
       "      <td>vertices_mean_extended/EMOTIONAL/LR/990366_LR_...</td>\n",
       "      <td>neut</td>\n",
       "      <td>fear</td>\n",
       "      <td>0.594633</td>\n",
       "      <td>False</td>\n",
       "    </tr>\n",
       "    <tr>\n",
       "      <th>2</th>\n",
       "      <td>vertices_mean_extended/EMOTIONAL/LR/211316_LR_...</td>\n",
       "      <td>fear</td>\n",
       "      <td>fear</td>\n",
       "      <td>0.511817</td>\n",
       "      <td>True</td>\n",
       "    </tr>\n",
       "    <tr>\n",
       "      <th>3</th>\n",
       "      <td>vertices_mean_extended/EMOTIONAL/LR/211316_LR_...</td>\n",
       "      <td>neut</td>\n",
       "      <td>neut</td>\n",
       "      <td>0.533122</td>\n",
       "      <td>True</td>\n",
       "    </tr>\n",
       "    <tr>\n",
       "      <th>4</th>\n",
       "      <td>vertices_mean_extended/EMOTIONAL/LR/141119_LR_...</td>\n",
       "      <td>fear</td>\n",
       "      <td>neut</td>\n",
       "      <td>0.504564</td>\n",
       "      <td>False</td>\n",
       "    </tr>\n",
       "  </tbody>\n",
       "</table>\n",
       "</div>"
      ],
      "text/plain": [
       "                                                file  true  pred      conf  \\\n",
       "0  vertices_mean_extended/EMOTIONAL/LR/990366_LR_...  fear  neut  0.529063   \n",
       "1  vertices_mean_extended/EMOTIONAL/LR/990366_LR_...  neut  fear  0.594633   \n",
       "2  vertices_mean_extended/EMOTIONAL/LR/211316_LR_...  fear  fear  0.511817   \n",
       "3  vertices_mean_extended/EMOTIONAL/LR/211316_LR_...  neut  neut  0.533122   \n",
       "4  vertices_mean_extended/EMOTIONAL/LR/141119_LR_...  fear  neut  0.504564   \n",
       "\n",
       "   correct  \n",
       "0    False  \n",
       "1    False  \n",
       "2     True  \n",
       "3     True  \n",
       "4    False  "
      ]
     },
     "execution_count": 24,
     "metadata": {},
     "output_type": "execute_result"
    }
   ],
   "source": [
    "res_df = pd.DataFrame(results)\n",
    "res_df.to_csv(\"prediction_results_emotions_lr_with_corr.csv\", index=False)\n",
    "res_df.head()"
   ]
  },
  {
   "cell_type": "code",
   "execution_count": 28,
   "id": "e51f5bde",
   "metadata": {},
   "outputs": [
    {
     "name": "stdout",
     "output_type": "stream",
     "text": [
      "Accuracy per each class:\n",
      "true\n",
      "fear    76.712329\n",
      "neut    76.027397\n",
      "Name: Accuracy (%), dtype: float64\n"
     ]
    }
   ],
   "source": [
    "df = pd.read_csv('prediction_results_emotions_lr_with_corr.csv')\n",
    "df['correct'] = df['true'] == df['pred']\n",
    "accuracy_per_class = df.groupby('true')['correct'].mean()\n",
    "accuracy_per_class = accuracy_per_class * 100\n",
    "accuracy_per_class = accuracy_per_class.rename('Accuracy (%)')\n",
    "accuracy_per_class = accuracy_per_class.sort_values(ascending=False)\n",
    "\n",
    "print(\"Accuracy per each class:\")\n",
    "print(accuracy_per_class)\n",
    "\n"
   ]
  },
  {
   "cell_type": "code",
   "execution_count": 31,
   "id": "26cabc76",
   "metadata": {},
   "outputs": [
    {
     "name": "stdout",
     "output_type": "stream",
     "text": [
      "              precision    recall  f1-score   support\n",
      "\n",
      "        fear       0.76      0.77      0.76       146\n",
      "        neut       0.77      0.76      0.76       146\n",
      "\n",
      "    accuracy                           0.76       292\n",
      "   macro avg       0.76      0.76      0.76       292\n",
      "weighted avg       0.76      0.76      0.76       292\n",
      "\n"
     ]
    }
   ],
   "source": [
    "from sklearn.metrics import confusion_matrix, classification_report\n",
    "import matplotlib.pyplot as plt\n",
    "import seaborn as sns\n",
    "\n",
    "cm = confusion_matrix(df['true'], df['pred'])\n",
    "\n",
    "print(classification_report(df['true'], df['pred']))"
   ]
  },
  {
   "cell_type": "code",
   "execution_count": 32,
   "id": "37bade98",
   "metadata": {},
   "outputs": [
    {
     "data": {
      "image/png": "[encoded data removed]",
      "text/plain": [
       "<Figure size 1000x800 with 2 Axes>"
      ]
     },
     "metadata": {},
     "output_type": "display_data"
    }
   ],
   "source": [
    "plt.figure(figsize=(10, 8))\n",
    "sns.heatmap(cm, annot=True, fmt='d', cmap='Blues', \n",
    "            xticklabels=df['true'].unique(), \n",
    "            yticklabels=df['true'].unique())\n",
    "plt.xlabel('Predicted')\n",
    "plt.ylabel('True')\n",
    "plt.title('Confusion Matrix')\n",
    "plt.show()"
   ]
  },
  {
   "cell_type": "markdown",
   "id": "4b167199",
   "metadata": {},
   "source": [
    "# Working memory (LR)"
   ]
  },
  {
   "cell_type": "code",
   "execution_count": 4,
   "id": "d9b5996e",
   "metadata": {},
   "outputs": [],
   "source": [
    "base_dir = 'vertices_mean_extended/WM/LR'  \n",
    "output_dir = 'pairwise_working_memory_LR'"
   ]
  },
  {
   "cell_type": "code",
   "execution_count": null,
   "id": "1ca546b2",
   "metadata": {
    "scrolled": true
   },
   "outputs": [],
   "source": [
    "data = create_pairwise_dataset(base_dir, features)\n",
    "process_pairs_in_parallel(vertex_pairs, output_dir, features, data)"
   ]
  },
  {
   "cell_type": "code",
   "execution_count": 7,
   "id": "19cd3d95",
   "metadata": {},
   "outputs": [
    {
     "name": "stdout",
     "output_type": "stream",
     "text": [
      "Найдено 71631 парных датасетов.\n"
     ]
    }
   ],
   "source": [
    "dataset_dir = output_dir \n",
    "dataset_files = [\n",
    "    os.path.join(dataset_dir, fname) \n",
    "    for fname in os.listdir(dataset_dir) \n",
    "    if fname.endswith('.pkl')\n",
    "]\n",
    "print(f\"Найдено {len(dataset_files)} парных датасетов.\")"
   ]
  },
  {
   "cell_type": "code",
   "execution_count": 23,
   "id": "c4aa239c",
   "metadata": {},
   "outputs": [
    {
     "data": {
      "text/html": [
       "<style>#sk-container-id-2 {color: black;background-color: white;}#sk-container-id-2 pre{padding: 0;}#sk-container-id-2 div.sk-toggleable {background-color: white;}#sk-container-id-2 label.sk-toggleable__label {cursor: pointer;display: block;width: 100%;margin-bottom: 0;padding: 0.3em;box-sizing: border-box;text-align: center;}#sk-container-id-2 label.sk-toggleable__label-arrow:before {content: \"▸\";float: left;margin-right: 0.25em;color: #696969;}#sk-container-id-2 label.sk-toggleable__label-arrow:hover:before {color: black;}#sk-container-id-2 div.sk-estimator:hover label.sk-toggleable__label-arrow:before {color: black;}#sk-container-id-2 div.sk-toggleable__content {max-height: 0;max-width: 0;overflow: hidden;text-align: left;background-color: #f0f8ff;}#sk-container-id-2 div.sk-toggleable__content pre {margin: 0.2em;color: black;border-radius: 0.25em;background-color: #f0f8ff;}#sk-container-id-2 input.sk-toggleable__control:checked~div.sk-toggleable__content {max-height: 200px;max-width: 100%;overflow: auto;}#sk-container-id-2 input.sk-toggleable__control:checked~label.sk-toggleable__label-arrow:before {content: \"▾\";}#sk-container-id-2 div.sk-estimator input.sk-toggleable__control:checked~label.sk-toggleable__label {background-color: #d4ebff;}#sk-container-id-2 div.sk-label input.sk-toggleable__control:checked~label.sk-toggleable__label {background-color: #d4ebff;}#sk-container-id-2 input.sk-hidden--visually {border: 0;clip: rect(1px 1px 1px 1px);clip: rect(1px, 1px, 1px, 1px);height: 1px;margin: -1px;overflow: hidden;padding: 0;position: absolute;width: 1px;}#sk-container-id-2 div.sk-estimator {font-family: monospace;background-color: #f0f8ff;border: 1px dotted black;border-radius: 0.25em;box-sizing: border-box;margin-bottom: 0.5em;}#sk-container-id-2 div.sk-estimator:hover {background-color: #d4ebff;}#sk-container-id-2 div.sk-parallel-item::after {content: \"\";width: 100%;border-bottom: 1px solid gray;flex-grow: 1;}#sk-container-id-2 div.sk-label:hover label.sk-toggleable__label {background-color: #d4ebff;}#sk-container-id-2 div.sk-serial::before {content: \"\";position: absolute;border-left: 1px solid gray;box-sizing: border-box;top: 0;bottom: 0;left: 50%;z-index: 0;}#sk-container-id-2 div.sk-serial {display: flex;flex-direction: column;align-items: center;background-color: white;padding-right: 0.2em;padding-left: 0.2em;position: relative;}#sk-container-id-2 div.sk-item {position: relative;z-index: 1;}#sk-container-id-2 div.sk-parallel {display: flex;align-items: stretch;justify-content: center;background-color: white;position: relative;}#sk-container-id-2 div.sk-item::before, #sk-container-id-2 div.sk-parallel-item::before {content: \"\";position: absolute;border-left: 1px solid gray;box-sizing: border-box;top: 0;bottom: 0;left: 50%;z-index: -1;}#sk-container-id-2 div.sk-parallel-item {display: flex;flex-direction: column;z-index: 1;position: relative;background-color: white;}#sk-container-id-2 div.sk-parallel-item:first-child::after {align-self: flex-end;width: 50%;}#sk-container-id-2 div.sk-parallel-item:last-child::after {align-self: flex-start;width: 50%;}#sk-container-id-2 div.sk-parallel-item:only-child::after {width: 0;}#sk-container-id-2 div.sk-dashed-wrapped {border: 1px dashed gray;margin: 0 0.4em 0.5em 0.4em;box-sizing: border-box;padding-bottom: 0.4em;background-color: white;}#sk-container-id-2 div.sk-label label {font-family: monospace;font-weight: bold;display: inline-block;line-height: 1.2em;}#sk-container-id-2 div.sk-label-container {text-align: center;}#sk-container-id-2 div.sk-container {/* jupyter's `normalize.less` sets `[hidden] { display: none; }` but bootstrap.min.css set `[hidden] { display: none !important; }` so we also need the `!important` here to be able to override the default hidden behavior on the sphinx rendered scikit-learn.org. See: https://github.com/scikit-learn/scikit-learn/issues/21755 */display: inline-block !important;position: relative;}#sk-container-id-2 div.sk-text-repr-fallback {display: none;}</style><div id=\"sk-container-id-2\" class=\"sk-top-container\"><div class=\"sk-text-repr-fallback\"><pre>LabelEncoder()</pre><b>In a Jupyter environment, please rerun this cell to show the HTML representation or trust the notebook. <br />On GitHub, the HTML representation is unable to render, please try loading this page with nbviewer.org.</b></div><div class=\"sk-container\" hidden><div class=\"sk-item\"><div class=\"sk-estimator sk-toggleable\"><input class=\"sk-toggleable__control sk-hidden--visually\" id=\"sk-estimator-id-2\" type=\"checkbox\" checked><label for=\"sk-estimator-id-2\" class=\"sk-toggleable__label sk-toggleable__label-arrow\">LabelEncoder</label><div class=\"sk-toggleable__content\"><pre>LabelEncoder()</pre></div></div></div></div></div>"
      ],
      "text/plain": [
       "LabelEncoder()"
      ]
     },
     "execution_count": 23,
     "metadata": {},
     "output_type": "execute_result"
    }
   ],
   "source": [
    "le = LabelEncoder()\n",
    "le.fit(['0bk', '2bk']) "
   ]
  },
  {
   "cell_type": "code",
   "execution_count": null,
   "id": "9a7b13d3",
   "metadata": {
    "scrolled": true
   },
   "outputs": [],
   "source": [
    "model_output_dir = 'models_wm_corr'\n",
    "report_output_dir = 'training_reports_wm_corr'\n",
    "os.makedirs(model_output_dir, exist_ok=True)\n",
    "os.makedirs(report_output_dir, exist_ok=True)\n",
    "results = Parallel(n_jobs=-1)(\n",
    "    delayed(train_logistic_regression)(\n",
    "        dataset_path=path, \n",
    "        model_output_dir=model_output_dir, \n",
    "        feature_bmodels_wm_corrases = features,\n",
    "        corr_map = corr_map,\n",
    "        le=le_global\n",
    "    ) for path in tqdm(dataset_files)\n",
    ")"
   ]
  },
  {
   "cell_type": "code",
   "execution_count": 10,
   "id": "18291a89",
   "metadata": {},
   "outputs": [],
   "source": [
    "models_dir = 'models_wm_corr'\n",
    "models = {}\n",
    "for i in range(1, number_of_vertices):  \n",
    "    for j in range(i + 1, number_of_vertices):\n",
    "        model_name = f'logreg_v{i}_v{j}.joblib'\n",
    "        model_path = os.path.join(models_dir, model_name)\n",
    "        if os.path.exists(model_path):\n",
    "            models[(i, j)] = load(model_path)['model']"
   ]
  },
  {
   "cell_type": "code",
   "execution_count": 11,
   "id": "9477a013",
   "metadata": {},
   "outputs": [
    {
     "name": "stdout",
     "output_type": "stream",
     "text": [
      "Will test on 71631 modelled pairs.\n"
     ]
    }
   ],
   "source": [
    "pairs = sorted(models.keys())\n",
    "print(f\"Will test on {len(pairs)} modelled pairs.\")"
   ]
  },
  {
   "cell_type": "code",
   "execution_count": 13,
   "id": "47e91668",
   "metadata": {},
   "outputs": [],
   "source": [
    "pkl_paths = []\n",
    "base_dir = 'vertices_mean_extended/'  \n",
    "subfolders = ['WM/LR']\n",
    "\n",
    "for subfolder in subfolders:\n",
    "    folder_path = os.path.join(base_dir, subfolder)  \n",
    "    for test_id in test_ids:\n",
    "        for filename in os.listdir(folder_path):\n",
    "            if test_id in filename and filename.endswith('.pickle'):\n",
    "                pkl_paths.append(os.path.join(folder_path, filename))"
   ]
  },
  {
   "cell_type": "code",
   "execution_count": 14,
   "id": "9829dad0",
   "metadata": {},
   "outputs": [],
   "source": [
    "true_labels = {}\n",
    "for p in pkl_paths:\n",
    "    sid, _, cls = Path(p).stem.split('_')\n",
    "    true_labels[p] = cls"
   ]
  },
  {
   "cell_type": "code",
   "execution_count": null,
   "id": "75068b1d",
   "metadata": {
    "scrolled": true
   },
   "outputs": [],
   "source": [
    "all_data = {p: pd.read_pickle(p) for p in tqdm(pkl_paths, desc=\"Loading all pkls\")}\n"
   ]
  },
  {
   "cell_type": "code",
   "execution_count": 16,
   "id": "d07ef193",
   "metadata": {},
   "outputs": [],
   "source": [
    "data_matrix = {p: df[features].values for p, df in all_data.items()}"
   ]
  },
  {
   "cell_type": "code",
   "execution_count": 24,
   "id": "59790b88",
   "metadata": {
    "scrolled": true
   },
   "outputs": [
    {
     "name": "stderr",
     "output_type": "stream",
     "text": [
      "100%|█████████████████████████████████████████| 292/292 [47:45<00:00,  9.81s/it]\n"
     ]
    },
    {
     "name": "stdout",
     "output_type": "stream",
     "text": [
      "Total accuracy: 0.9418\n"
     ]
    }
   ],
   "source": [
    "results = Parallel(n_jobs=-1)(\n",
    "    delayed(predict_for_sample)(p) for p in tqdm(pkl_paths)\n",
    ")\n",
    "\n",
    "accuracy = sum(r['correct'] for r in results) / len(results)\n",
    "print(f\"Total accuracy: {accuracy:.4f}\")\n"
   ]
  },
  {
   "cell_type": "code",
   "execution_count": 25,
   "id": "978bc175",
   "metadata": {},
   "outputs": [
    {
     "data": {
      "text/html": [
       "<div>\n",
       "<style scoped>\n",
       "    .dataframe tbody tr th:only-of-type {\n",
       "        vertical-align: middle;\n",
       "    }\n",
       "\n",
       "    .dataframe tbody tr th {\n",
       "        vertical-align: top;\n",
       "    }\n",
       "\n",
       "    .dataframe thead th {\n",
       "        text-align: right;\n",
       "    }\n",
       "</style>\n",
       "<table border=\"1\" class=\"dataframe\">\n",
       "  <thead>\n",
       "    <tr style=\"text-align: right;\">\n",
       "      <th></th>\n",
       "      <th>file</th>\n",
       "      <th>true</th>\n",
       "      <th>pred</th>\n",
       "      <th>conf</th>\n",
       "      <th>correct</th>\n",
       "    </tr>\n",
       "  </thead>\n",
       "  <tbody>\n",
       "    <tr>\n",
       "      <th>0</th>\n",
       "      <td>vertices_mean_extended/WM/LR/990366_LR_2bk.pickle</td>\n",
       "      <td>2bk</td>\n",
       "      <td>2bk</td>\n",
       "      <td>0.575814</td>\n",
       "      <td>True</td>\n",
       "    </tr>\n",
       "    <tr>\n",
       "      <th>1</th>\n",
       "      <td>vertices_mean_extended/WM/LR/990366_LR_0bk.pickle</td>\n",
       "      <td>0bk</td>\n",
       "      <td>0bk</td>\n",
       "      <td>0.561274</td>\n",
       "      <td>True</td>\n",
       "    </tr>\n",
       "    <tr>\n",
       "      <th>2</th>\n",
       "      <td>vertices_mean_extended/WM/LR/211316_LR_0bk.pickle</td>\n",
       "      <td>0bk</td>\n",
       "      <td>0bk</td>\n",
       "      <td>0.523629</td>\n",
       "      <td>True</td>\n",
       "    </tr>\n",
       "    <tr>\n",
       "      <th>3</th>\n",
       "      <td>vertices_mean_extended/WM/LR/211316_LR_2bk.pickle</td>\n",
       "      <td>2bk</td>\n",
       "      <td>2bk</td>\n",
       "      <td>0.541745</td>\n",
       "      <td>True</td>\n",
       "    </tr>\n",
       "    <tr>\n",
       "      <th>4</th>\n",
       "      <td>vertices_mean_extended/WM/LR/141119_LR_2bk.pickle</td>\n",
       "      <td>2bk</td>\n",
       "      <td>2bk</td>\n",
       "      <td>0.530646</td>\n",
       "      <td>True</td>\n",
       "    </tr>\n",
       "  </tbody>\n",
       "</table>\n",
       "</div>"
      ],
      "text/plain": [
       "                                                file true pred      conf  \\\n",
       "0  vertices_mean_extended/WM/LR/990366_LR_2bk.pickle  2bk  2bk  0.575814   \n",
       "1  vertices_mean_extended/WM/LR/990366_LR_0bk.pickle  0bk  0bk  0.561274   \n",
       "2  vertices_mean_extended/WM/LR/211316_LR_0bk.pickle  0bk  0bk  0.523629   \n",
       "3  vertices_mean_extended/WM/LR/211316_LR_2bk.pickle  2bk  2bk  0.541745   \n",
       "4  vertices_mean_extended/WM/LR/141119_LR_2bk.pickle  2bk  2bk  0.530646   \n",
       "\n",
       "   correct  \n",
       "0     True  \n",
       "1     True  \n",
       "2     True  \n",
       "3     True  \n",
       "4     True  "
      ]
     },
     "execution_count": 25,
     "metadata": {},
     "output_type": "execute_result"
    }
   ],
   "source": [
    "res_df = pd.DataFrame(results)\n",
    "res_df.to_csv(\"prediction_results_wm_lr_with_corr.csv\", index=False)\n",
    "res_df.head()"
   ]
  },
  {
   "cell_type": "markdown",
   "id": "60e2730d",
   "metadata": {},
   "source": [
    "# Gambling (LR)"
   ]
  },
  {
   "cell_type": "code",
   "execution_count": 11,
   "id": "fd9cd2fb",
   "metadata": {},
   "outputs": [],
   "source": [
    "base_dir = 'vertices_mean_extended/GAMBLING/LR'  \n",
    "output_dir = 'pairwise_gambling_LR'"
   ]
  },
  {
   "cell_type": "code",
   "execution_count": 12,
   "id": "a200ee96",
   "metadata": {},
   "outputs": [
    {
     "name": "stdout",
     "output_type": "stream",
     "text": [
      "Найдено 71631 парных датасетов.\n"
     ]
    }
   ],
   "source": [
    "dataset_dir = output_dir \n",
    "dataset_files = [\n",
    "    os.path.join(dataset_dir, fname) \n",
    "    for fname in os.listdir(dataset_dir) \n",
    "    if fname.endswith('.pkl')\n",
    "]\n",
    "print(f\"Найдено {len(dataset_files)} парных датасетов.\")"
   ]
  },
  {
   "cell_type": "code",
   "execution_count": 13,
   "id": "6759dd1a",
   "metadata": {},
   "outputs": [
    {
     "data": {
      "text/html": [
       "<style>#sk-container-id-1 {color: black;background-color: white;}#sk-container-id-1 pre{padding: 0;}#sk-container-id-1 div.sk-toggleable {background-color: white;}#sk-container-id-1 label.sk-toggleable__label {cursor: pointer;display: block;width: 100%;margin-bottom: 0;padding: 0.3em;box-sizing: border-box;text-align: center;}#sk-container-id-1 label.sk-toggleable__label-arrow:before {content: \"▸\";float: left;margin-right: 0.25em;color: #696969;}#sk-container-id-1 label.sk-toggleable__label-arrow:hover:before {color: black;}#sk-container-id-1 div.sk-estimator:hover label.sk-toggleable__label-arrow:before {color: black;}#sk-container-id-1 div.sk-toggleable__content {max-height: 0;max-width: 0;overflow: hidden;text-align: left;background-color: #f0f8ff;}#sk-container-id-1 div.sk-toggleable__content pre {margin: 0.2em;color: black;border-radius: 0.25em;background-color: #f0f8ff;}#sk-container-id-1 input.sk-toggleable__control:checked~div.sk-toggleable__content {max-height: 200px;max-width: 100%;overflow: auto;}#sk-container-id-1 input.sk-toggleable__control:checked~label.sk-toggleable__label-arrow:before {content: \"▾\";}#sk-container-id-1 div.sk-estimator input.sk-toggleable__control:checked~label.sk-toggleable__label {background-color: #d4ebff;}#sk-container-id-1 div.sk-label input.sk-toggleable__control:checked~label.sk-toggleable__label {background-color: #d4ebff;}#sk-container-id-1 input.sk-hidden--visually {border: 0;clip: rect(1px 1px 1px 1px);clip: rect(1px, 1px, 1px, 1px);height: 1px;margin: -1px;overflow: hidden;padding: 0;position: absolute;width: 1px;}#sk-container-id-1 div.sk-estimator {font-family: monospace;background-color: #f0f8ff;border: 1px dotted black;border-radius: 0.25em;box-sizing: border-box;margin-bottom: 0.5em;}#sk-container-id-1 div.sk-estimator:hover {background-color: #d4ebff;}#sk-container-id-1 div.sk-parallel-item::after {content: \"\";width: 100%;border-bottom: 1px solid gray;flex-grow: 1;}#sk-container-id-1 div.sk-label:hover label.sk-toggleable__label {background-color: #d4ebff;}#sk-container-id-1 div.sk-serial::before {content: \"\";position: absolute;border-left: 1px solid gray;box-sizing: border-box;top: 0;bottom: 0;left: 50%;z-index: 0;}#sk-container-id-1 div.sk-serial {display: flex;flex-direction: column;align-items: center;background-color: white;padding-right: 0.2em;padding-left: 0.2em;position: relative;}#sk-container-id-1 div.sk-item {position: relative;z-index: 1;}#sk-container-id-1 div.sk-parallel {display: flex;align-items: stretch;justify-content: center;background-color: white;position: relative;}#sk-container-id-1 div.sk-item::before, #sk-container-id-1 div.sk-parallel-item::before {content: \"\";position: absolute;border-left: 1px solid gray;box-sizing: border-box;top: 0;bottom: 0;left: 50%;z-index: -1;}#sk-container-id-1 div.sk-parallel-item {display: flex;flex-direction: column;z-index: 1;position: relative;background-color: white;}#sk-container-id-1 div.sk-parallel-item:first-child::after {align-self: flex-end;width: 50%;}#sk-container-id-1 div.sk-parallel-item:last-child::after {align-self: flex-start;width: 50%;}#sk-container-id-1 div.sk-parallel-item:only-child::after {width: 0;}#sk-container-id-1 div.sk-dashed-wrapped {border: 1px dashed gray;margin: 0 0.4em 0.5em 0.4em;box-sizing: border-box;padding-bottom: 0.4em;background-color: white;}#sk-container-id-1 div.sk-label label {font-family: monospace;font-weight: bold;display: inline-block;line-height: 1.2em;}#sk-container-id-1 div.sk-label-container {text-align: center;}#sk-container-id-1 div.sk-container {/* jupyter's `normalize.less` sets `[hidden] { display: none; }` but bootstrap.min.css set `[hidden] { display: none !important; }` so we also need the `!important` here to be able to override the default hidden behavior on the sphinx rendered scikit-learn.org. See: https://github.com/scikit-learn/scikit-learn/issues/21755 */display: inline-block !important;position: relative;}#sk-container-id-1 div.sk-text-repr-fallback {display: none;}</style><div id=\"sk-container-id-1\" class=\"sk-top-container\"><div class=\"sk-text-repr-fallback\"><pre>LabelEncoder()</pre><b>In a Jupyter environment, please rerun this cell to show the HTML representation or trust the notebook. <br />On GitHub, the HTML representation is unable to render, please try loading this page with nbviewer.org.</b></div><div class=\"sk-container\" hidden><div class=\"sk-item\"><div class=\"sk-estimator sk-toggleable\"><input class=\"sk-toggleable__control sk-hidden--visually\" id=\"sk-estimator-id-1\" type=\"checkbox\" checked><label for=\"sk-estimator-id-1\" class=\"sk-toggleable__label sk-toggleable__label-arrow\">LabelEncoder</label><div class=\"sk-toggleable__content\"><pre>LabelEncoder()</pre></div></div></div></div></div>"
      ],
      "text/plain": [
       "LabelEncoder()"
      ]
     },
     "execution_count": 13,
     "metadata": {},
     "output_type": "execute_result"
    }
   ],
   "source": [
    "le_global = LabelEncoder()\n",
    "le_global.fit(['win', 'loss']) "
   ]
  },
  {
   "cell_type": "code",
   "execution_count": null,
   "id": "24d24790",
   "metadata": {
    "scrolled": false
   },
   "outputs": [],
   "source": [
    "model_output_dir = 'models_gambling_corr'\n",
    "os.makedirs(model_output_dir, exist_ok=True)\n",
    "results = Parallel(n_jobs=-1)(\n",
    "    delayed(train_logistic_regression)(\n",
    "        dataset_path=path, \n",
    "        model_output_dir=model_output_dir, \n",
    "        feature_bases = features,\n",
    "        corr_map = corr_map,\n",
    "        le=le_global\n",
    "    ) for path in tqdm(dataset_files)\n",
    ")"
   ]
  },
  {
   "cell_type": "code",
   "execution_count": 8,
   "id": "1e0451f5",
   "metadata": {},
   "outputs": [],
   "source": [
    "models_dir = 'models_gambling_corr'\n",
    "models = {}\n",
    "for i in range(1, number_of_vertices):  \n",
    "    for j in range(i + 1, number_of_vertices):\n",
    "        model_name = f'logreg_v{i}_v{j}.joblib'\n",
    "        model_path = os.path.join(models_dir, model_name)\n",
    "        if os.path.exists(model_path):\n",
    "            models[(i, j)] = load(model_path)['model']"
   ]
  },
  {
   "cell_type": "code",
   "execution_count": 9,
   "id": "c59ee017",
   "metadata": {
    "scrolled": true
   },
   "outputs": [
    {
     "name": "stdout",
     "output_type": "stream",
     "text": [
      "Will test on 71631 modelled pairs.\n"
     ]
    }
   ],
   "source": [
    "pairs = sorted(models.keys())\n",
    "print(f\"Will test on {len(pairs)} modelled pairs.\")"
   ]
  },
  {
   "cell_type": "code",
   "execution_count": 31,
   "id": "be494a2b",
   "metadata": {},
   "outputs": [],
   "source": [
    "pkl_paths = []\n",
    "\n",
    "\n",
    "for filename in os.listdir(base_dir):\n",
    "    parts = filename.split('_')[0]\n",
    "    if parts in test_ids and filename.endswith('.pickle'):\n",
    "        pkl_paths.append(os.path.join(base_dir, filename))"
   ]
  },
  {
   "cell_type": "code",
   "execution_count": 34,
   "id": "f67284b0",
   "metadata": {},
   "outputs": [
    {
     "name": "stderr",
     "output_type": "stream",
     "text": [
      "Loading all pkls: 100%|█████████████████████| 292/292 [00:00<00:00, 2287.47it/s]\n"
     ]
    },
    {
     "name": "stdout",
     "output_type": "stream",
     "text": [
      "Loaded 168424 correlation entries.\n"
     ]
    }
   ],
   "source": [
    "true_labels = {}\n",
    "for p in pkl_paths:\n",
    "    sid, _, cls = Path(p).stem.split('_')\n",
    "    true_labels[p] = cls\n",
    "all_data = {p: pd.read_pickle(p) for p in tqdm(pkl_paths, desc=\"Loading all pkls\")}\n",
    "data_matrix = {p: df[features].values for p, df in all_data.items()}\n",
    "corr_df = pd.read_csv(corr_graph_path)\n",
    "corr_map = dict(zip(corr_df['pair'], corr_df['weight']))\n",
    "print(f\"Loaded {len(corr_map)} correlation entries.\")"
   ]
  },
  {
   "cell_type": "code",
   "execution_count": 39,
   "id": "70201053",
   "metadata": {},
   "outputs": [
    {
     "data": {
      "text/html": [
       "<style>#sk-container-id-2 {color: black;background-color: white;}#sk-container-id-2 pre{padding: 0;}#sk-container-id-2 div.sk-toggleable {background-color: white;}#sk-container-id-2 label.sk-toggleable__label {cursor: pointer;display: block;width: 100%;margin-bottom: 0;padding: 0.3em;box-sizing: border-box;text-align: center;}#sk-container-id-2 label.sk-toggleable__label-arrow:before {content: \"▸\";float: left;margin-right: 0.25em;color: #696969;}#sk-container-id-2 label.sk-toggleable__label-arrow:hover:before {color: black;}#sk-container-id-2 div.sk-estimator:hover label.sk-toggleable__label-arrow:before {color: black;}#sk-container-id-2 div.sk-toggleable__content {max-height: 0;max-width: 0;overflow: hidden;text-align: left;background-color: #f0f8ff;}#sk-container-id-2 div.sk-toggleable__content pre {margin: 0.2em;color: black;border-radius: 0.25em;background-color: #f0f8ff;}#sk-container-id-2 input.sk-toggleable__control:checked~div.sk-toggleable__content {max-height: 200px;max-width: 100%;overflow: auto;}#sk-container-id-2 input.sk-toggleable__control:checked~label.sk-toggleable__label-arrow:before {content: \"▾\";}#sk-container-id-2 div.sk-estimator input.sk-toggleable__control:checked~label.sk-toggleable__label {background-color: #d4ebff;}#sk-container-id-2 div.sk-label input.sk-toggleable__control:checked~label.sk-toggleable__label {background-color: #d4ebff;}#sk-container-id-2 input.sk-hidden--visually {border: 0;clip: rect(1px 1px 1px 1px);clip: rect(1px, 1px, 1px, 1px);height: 1px;margin: -1px;overflow: hidden;padding: 0;position: absolute;width: 1px;}#sk-container-id-2 div.sk-estimator {font-family: monospace;background-color: #f0f8ff;border: 1px dotted black;border-radius: 0.25em;box-sizing: border-box;margin-bottom: 0.5em;}#sk-container-id-2 div.sk-estimator:hover {background-color: #d4ebff;}#sk-container-id-2 div.sk-parallel-item::after {content: \"\";width: 100%;border-bottom: 1px solid gray;flex-grow: 1;}#sk-container-id-2 div.sk-label:hover label.sk-toggleable__label {background-color: #d4ebff;}#sk-container-id-2 div.sk-serial::before {content: \"\";position: absolute;border-left: 1px solid gray;box-sizing: border-box;top: 0;bottom: 0;left: 50%;z-index: 0;}#sk-container-id-2 div.sk-serial {display: flex;flex-direction: column;align-items: center;background-color: white;padding-right: 0.2em;padding-left: 0.2em;position: relative;}#sk-container-id-2 div.sk-item {position: relative;z-index: 1;}#sk-container-id-2 div.sk-parallel {display: flex;align-items: stretch;justify-content: center;background-color: white;position: relative;}#sk-container-id-2 div.sk-item::before, #sk-container-id-2 div.sk-parallel-item::before {content: \"\";position: absolute;border-left: 1px solid gray;box-sizing: border-box;top: 0;bottom: 0;left: 50%;z-index: -1;}#sk-container-id-2 div.sk-parallel-item {display: flex;flex-direction: column;z-index: 1;position: relative;background-color: white;}#sk-container-id-2 div.sk-parallel-item:first-child::after {align-self: flex-end;width: 50%;}#sk-container-id-2 div.sk-parallel-item:last-child::after {align-self: flex-start;width: 50%;}#sk-container-id-2 div.sk-parallel-item:only-child::after {width: 0;}#sk-container-id-2 div.sk-dashed-wrapped {border: 1px dashed gray;margin: 0 0.4em 0.5em 0.4em;box-sizing: border-box;padding-bottom: 0.4em;background-color: white;}#sk-container-id-2 div.sk-label label {font-family: monospace;font-weight: bold;display: inline-block;line-height: 1.2em;}#sk-container-id-2 div.sk-label-container {text-align: center;}#sk-container-id-2 div.sk-container {/* jupyter's `normalize.less` sets `[hidden] { display: none; }` but bootstrap.min.css set `[hidden] { display: none !important; }` so we also need the `!important` here to be able to override the default hidden behavior on the sphinx rendered scikit-learn.org. See: https://github.com/scikit-learn/scikit-learn/issues/21755 */display: inline-block !important;position: relative;}#sk-container-id-2 div.sk-text-repr-fallback {display: none;}</style><div id=\"sk-container-id-2\" class=\"sk-top-container\"><div class=\"sk-text-repr-fallback\"><pre>LabelEncoder()</pre><b>In a Jupyter environment, please rerun this cell to show the HTML representation or trust the notebook. <br />On GitHub, the HTML representation is unable to render, please try loading this page with nbviewer.org.</b></div><div class=\"sk-container\" hidden><div class=\"sk-item\"><div class=\"sk-estimator sk-toggleable\"><input class=\"sk-toggleable__control sk-hidden--visually\" id=\"sk-estimator-id-2\" type=\"checkbox\" checked><label for=\"sk-estimator-id-2\" class=\"sk-toggleable__label sk-toggleable__label-arrow\">LabelEncoder</label><div class=\"sk-toggleable__content\"><pre>LabelEncoder()</pre></div></div></div></div></div>"
      ],
      "text/plain": [
       "LabelEncoder()"
      ]
     },
     "execution_count": 39,
     "metadata": {},
     "output_type": "execute_result"
    }
   ],
   "source": [
    "le = LabelEncoder()\n",
    "le.fit(['win', 'loss']) "
   ]
  },
  {
   "cell_type": "code",
   "execution_count": 41,
   "id": "e9a1e5cb",
   "metadata": {},
   "outputs": [
    {
     "name": "stderr",
     "output_type": "stream",
     "text": [
      "100%|█████████████████████████████████████████| 292/292 [59:25<00:00, 12.21s/it]\n"
     ]
    },
    {
     "name": "stdout",
     "output_type": "stream",
     "text": [
      "Total accuracy: 0.8288\n"
     ]
    }
   ],
   "source": [
    "results = Parallel(n_jobs=-1)(\n",
    "    delayed(predict_for_sample)(p) for p in tqdm(pkl_paths)\n",
    ")\n",
    "\n",
    "accuracy = sum(r['correct'] for r in results) / len(results)\n",
    "print(f\"Total accuracy: {accuracy:.4f}\")\n"
   ]
  },
  {
   "cell_type": "code",
   "execution_count": 42,
   "id": "16a1248e",
   "metadata": {},
   "outputs": [
    {
     "data": {
      "text/html": [
       "<div>\n",
       "<style scoped>\n",
       "    .dataframe tbody tr th:only-of-type {\n",
       "        vertical-align: middle;\n",
       "    }\n",
       "\n",
       "    .dataframe tbody tr th {\n",
       "        vertical-align: top;\n",
       "    }\n",
       "\n",
       "    .dataframe thead th {\n",
       "        text-align: right;\n",
       "    }\n",
       "</style>\n",
       "<table border=\"1\" class=\"dataframe\">\n",
       "  <thead>\n",
       "    <tr style=\"text-align: right;\">\n",
       "      <th></th>\n",
       "      <th>file</th>\n",
       "      <th>true</th>\n",
       "      <th>pred</th>\n",
       "      <th>conf</th>\n",
       "      <th>correct</th>\n",
       "    </tr>\n",
       "  </thead>\n",
       "  <tbody>\n",
       "    <tr>\n",
       "      <th>0</th>\n",
       "      <td>vertices_mean_extended/GAMBLING/LR/195950_LR_l...</td>\n",
       "      <td>loss</td>\n",
       "      <td>loss</td>\n",
       "      <td>0.610530</td>\n",
       "      <td>True</td>\n",
       "    </tr>\n",
       "    <tr>\n",
       "      <th>1</th>\n",
       "      <td>vertices_mean_extended/GAMBLING/LR/671855_LR_l...</td>\n",
       "      <td>loss</td>\n",
       "      <td>loss</td>\n",
       "      <td>0.532631</td>\n",
       "      <td>True</td>\n",
       "    </tr>\n",
       "    <tr>\n",
       "      <th>2</th>\n",
       "      <td>vertices_mean_extended/GAMBLING/LR/365343_LR_l...</td>\n",
       "      <td>loss</td>\n",
       "      <td>loss</td>\n",
       "      <td>0.598919</td>\n",
       "      <td>True</td>\n",
       "    </tr>\n",
       "    <tr>\n",
       "      <th>3</th>\n",
       "      <td>vertices_mean_extended/GAMBLING/LR/869472_LR_w...</td>\n",
       "      <td>win</td>\n",
       "      <td>win</td>\n",
       "      <td>0.555480</td>\n",
       "      <td>True</td>\n",
       "    </tr>\n",
       "    <tr>\n",
       "      <th>4</th>\n",
       "      <td>vertices_mean_extended/GAMBLING/LR/168240_LR_w...</td>\n",
       "      <td>win</td>\n",
       "      <td>win</td>\n",
       "      <td>0.602935</td>\n",
       "      <td>True</td>\n",
       "    </tr>\n",
       "  </tbody>\n",
       "</table>\n",
       "</div>"
      ],
      "text/plain": [
       "                                                file  true  pred      conf  \\\n",
       "0  vertices_mean_extended/GAMBLING/LR/195950_LR_l...  loss  loss  0.610530   \n",
       "1  vertices_mean_extended/GAMBLING/LR/671855_LR_l...  loss  loss  0.532631   \n",
       "2  vertices_mean_extended/GAMBLING/LR/365343_LR_l...  loss  loss  0.598919   \n",
       "3  vertices_mean_extended/GAMBLING/LR/869472_LR_w...   win   win  0.555480   \n",
       "4  vertices_mean_extended/GAMBLING/LR/168240_LR_w...   win   win  0.602935   \n",
       "\n",
       "   correct  \n",
       "0     True  \n",
       "1     True  \n",
       "2     True  \n",
       "3     True  \n",
       "4     True  "
      ]
     },
     "execution_count": 42,
     "metadata": {},
     "output_type": "execute_result"
    }
   ],
   "source": [
    "res_df = pd.DataFrame(results)\n",
    "res_df.to_csv(\"prediction_results_gambling_lr_with_corr.csv\", index=False)\n",
    "res_df.head()"
   ]
  },
  {
   "cell_type": "markdown",
   "id": "02a632e2",
   "metadata": {},
   "source": [
    "# Language (LR)"
   ]
  },
  {
   "cell_type": "code",
   "execution_count": 14,
   "id": "d920e5c8",
   "metadata": {},
   "outputs": [],
   "source": [
    "def predict_for_sample(pkl):\n",
    "    data_np = data_matrix[pkl]\n",
    "    true_cls = true_labels[pkl]\n",
    "\n",
    "    probas = Parallel(n_jobs=-1)(\n",
    "        delayed(process_pair)(i, j, data_np)\n",
    "        for i, j in pairs\n",
    "    )\n",
    "    total = np.sum(probas, axis=0)\n",
    "    avg = total / len(pairs)\n",
    "    pred_idx = np.argmax(avg)\n",
    "    pred_cls = le.inverse_transform([pred_idx])[0]\n",
    "    conf = avg[pred_idx]\n",
    "\n",
    "    return {\n",
    "        'file': pkl,\n",
    "        'true': true_cls,\n",
    "        'pred': pred_cls,\n",
    "        'conf': float(conf),\n",
    "        'correct': pred_cls == true_cls\n",
    "    }\n"
   ]
  },
  {
   "cell_type": "code",
   "execution_count": 7,
   "id": "ea569ebf",
   "metadata": {},
   "outputs": [],
   "source": [
    "def train_models_and_find_files(base_dir, output_dir, classes, models_dir, corr_map, features):\n",
    "    dataset_dir = output_dir \n",
    "    dataset_files = [\n",
    "        os.path.join(dataset_dir, fname) \n",
    "        for fname in os.listdir(dataset_dir) \n",
    "        if fname.endswith('.pkl')\n",
    "    ]\n",
    "    print(f\"Найдено {len(dataset_files)} парных датасетов.\")\n",
    "    le = LabelEncoder()\n",
    "    le.fit(classes) \n",
    "#     os.makedirs(models_dir, exist_ok=True)\n",
    "#     results = Parallel(n_jobs=-1)(\n",
    "#         delayed(train_logistic_regression)(\n",
    "#             dataset_path=path, \n",
    "#             model_output_dir=models_dir, \n",
    "#             feature_bases = features,\n",
    "#             corr_map = corr_map,\n",
    "#             le=le\n",
    "#         ) for path in tqdm(dataset_files)\n",
    "#     )\n",
    "\n",
    "    pkl_paths = []\n",
    "\n",
    "    for test_id in test_ids:\n",
    "        for filename in os.listdir(base_dir):\n",
    "            if test_id in filename and filename.endswith('.pickle'):\n",
    "                pkl_paths.append(os.path.join(base_dir, filename))\n",
    "    \n",
    "    true_labels = {}\n",
    "    for p in pkl_paths:\n",
    "        sid, _, cls = Path(p).stem.split('_')\n",
    "        true_labels[p] = cls\n",
    "    all_data = {p: pd.read_pickle(p) for p in tqdm(pkl_paths, desc=\"Loading all pkls\")}\n",
    "    data_matrix = {p: df[features].values for p, df in all_data.items()}\n",
    "    return true_labels, data_matrix, pkl_paths, le"
   ]
  },
  {
   "cell_type": "code",
   "execution_count": 14,
   "id": "a168c062",
   "metadata": {
    "scrolled": true
   },
   "outputs": [
    {
     "name": "stdout",
     "output_type": "stream",
     "text": [
      "Найдено 71631 парных датасетов.\n"
     ]
    },
    {
     "name": "stderr",
     "output_type": "stream",
     "text": [
      "\n",
      "\n",
      "Loading all pkls: 100%|█████████████████████| 292/292 [00:00<00:00, 4051.73it/s]\u001b[A\u001b[A\n"
     ]
    }
   ],
   "source": [
    "base_dir = 'vertices_mean_extended/LANGUAGE/LR'  \n",
    "output_dir = 'pairwise_language_LR'\n",
    "classes = ['story', 'math']\n",
    "models_dir = 'models_language_corr'\n",
    "features = ['mean', 'std']\n",
    "results_name = \"prediction_results_language_lr_with_corr.csv\"\n",
    "true_labels, data_matrix, pkl_paths, le = train_models_and_find_files(base_dir, output_dir, classes, models_dir, corr_map, features)"
   ]
  },
  {
   "cell_type": "code",
   "execution_count": 9,
   "id": "53519b5f",
   "metadata": {},
   "outputs": [
    {
     "name": "stdout",
     "output_type": "stream",
     "text": [
      "Will test on 71631 modelled pairs.\n",
      "Loaded 168424 correlation entries.\n"
     ]
    }
   ],
   "source": [
    "models = {}\n",
    "for i in range(1, number_of_vertices):  \n",
    "    for j in range(i + 1, number_of_vertices):\n",
    "        model_name = f'logreg_v{i}_v{j}.joblib'\n",
    "        model_path = os.path.join(models_dir, model_name)\n",
    "        if os.path.exists(model_path):\n",
    "            models[(i, j)] = load(model_path)['model']\n",
    "pairs = sorted(models.keys())\n",
    "print(f\"Will test on {len(pairs)} modelled pairs.\")\n",
    "corr_df = pd.read_csv(corr_graph_path)\n",
    "corr_map = dict(zip(corr_df['pair'], corr_df['weight']))\n",
    "print(f\"Loaded {len(corr_map)} correlation entries.\")"
   ]
  },
  {
   "cell_type": "code",
   "execution_count": null,
   "id": "0796c9e7",
   "metadata": {
    "scrolled": false
   },
   "outputs": [],
   "source": [
    "results = Parallel(n_jobs=-1)(\n",
    "delayed(predict_for_sample)(p) for p in tqdm(pkl_paths))\n",
    "\n",
    "accuracy = sum(r['correct'] for r in results) / len(results)\n",
    "print(f\"Total accuracy: {accuracy:.4f}\")\n",
    "res_df = pd.DataFrame(results)\n",
    "res_df.to_csv(results_name, index=False)\n",
    "res_df.head()\n"
   ]
  },
  {
   "cell_type": "markdown",
   "id": "4f03388b",
   "metadata": {},
   "source": [
    "# MOTOR (LR)"
   ]
  },
  {
   "cell_type": "code",
   "execution_count": null,
   "id": "6ac600af",
   "metadata": {},
   "outputs": [],
   "source": [
    "base_dir = 'vertices_mean_extended/MOTOR/LR'  \n",
    "output_dir = 'pairwise_motor_LR'\n",
    "classes = ['r', 'l']\n",
    "models_dir = 'models_motor_corr'\n",
    "features = ['mean', 'std']\n",
    "results_name = \"prediction_results_motor_lr_with_corr.csv\"\n",
    "true_labels, data_matrix, pkl_paths, le = train_models_and_find_files(base_dir, output_dir, classes, models_dir, corr_map, features)"
   ]
  },
  {
   "cell_type": "code",
   "execution_count": null,
   "id": "f0db7046",
   "metadata": {
    "scrolled": true
   },
   "outputs": [],
   "source": [
    "models = {}\n",
    "for i in range(1, number_of_vertices):  \n",
    "    for j in range(i + 1, number_of_vertices):\n",
    "        model_name = f'logreg_v{i}_v{j}.joblib'\n",
    "        model_path = os.path.join(models_dir, model_name)\n",
    "        if os.path.exists(model_path):\n",
    "            models[(i, j)] = load(model_path)['model']\n",
    "pairs = sorted(models.keys())\n",
    "print(f\"Will test on {len(pairs)} modelled pairs.\")\n",
    "corr_df = pd.read_csv(corr_graph_path)\n",
    "corr_map = dict(zip(corr_df['pair'], corr_df['weight']))\n",
    "print(f\"Loaded {len(corr_map)} correlation entries.\")"
   ]
  },
  {
   "cell_type": "code",
   "execution_count": null,
   "id": "30c6f9f4",
   "metadata": {
    "scrolled": true
   },
   "outputs": [],
   "source": [
    "results = Parallel(n_jobs=-1)(\n",
    "delayed(predict_for_sample)(p) for p in tqdm(pkl_paths))\n",
    "\n",
    "accuracy = sum(r['correct'] for r in results) / len(results)\n",
    "print(f\"Total accuracy: {accuracy:.4f}\")\n",
    "res_df = pd.DataFrame(results)\n",
    "res_df.to_csv(results_name, index=False)\n",
    "res_df.head()\n"
   ]
  },
  {
   "cell_type": "markdown",
   "id": "697ae0f6",
   "metadata": {},
   "source": [
    "# SOCIAL (LR)"
   ]
  },
  {
   "cell_type": "code",
   "execution_count": null,
   "id": "808b1cd1",
   "metadata": {
    "scrolled": false
   },
   "outputs": [],
   "source": [
    "base_dir = 'vertices_mean_extended/SOCIAL/LR'  \n",
    "output_dir = 'pairwise_social_LR'\n",
    "classes = ['rnd', 'mental']\n",
    "models_dir = 'models_social_corr'\n",
    "features = ['mean', 'std']\n",
    "results_name = \"prediction_results_social_lr_with_corr.csv\"\n",
    "true_labels, data_matrix, pkl_paths, le = train_models_and_find_files(base_dir, output_dir, classes, models_dir, corr_map, features)"
   ]
  },
  {
   "cell_type": "code",
   "execution_count": 29,
   "id": "6d929159",
   "metadata": {},
   "outputs": [],
   "source": [
    "models = {}\n",
    "for i in range(1, number_of_vertices):  \n",
    "    for j in range(i + 1, number_of_vertices):\n",
    "        model_name = f'logreg_v{i}_v{j}.joblib'\n",
    "        model_path = os.path.join(models_dir, model_name)\n",
    "        if os.path.exists(model_path):\n",
    "            models[(i, j)] = load(model_path)['model']\n",
    "pairs = sorted(models.keys())\n",
    "print(f\"Will test on {len(pairs)} modelled pairs.\")\n",
    "corr_df = pd.read_csv(corr_graph_path)\n",
    "corr_map = dict(zip(corr_df['pair'], corr_df['weight']))\n",
    "print(f\"Loaded {len(corr_map)} correlation entries.\")"
   ]
  },
  {
   "cell_type": "code",
   "execution_count": null,
   "id": "bdc845a8",
   "metadata": {},
   "outputs": [],
   "source": [
    "results = Parallel(n_jobs=-1)(\n",
    "delayed(predict_for_sample)(p) for p in tqdm(pkl_paths))\n",
    "\n",
    "accuracy = sum(r['correct'] for r in results) / len(results)\n",
    "print(f\"Total accuracy: {accuracy:.4f}\")\n",
    "res_df = pd.DataFrame(results)\n",
    "res_df.to_csv(results_name, index=False)\n",
    "res_df.head()\n"
   ]
  },
  {
   "cell_type": "code",
   "execution_count": 41,
   "id": "8eb630ae",
   "metadata": {},
   "outputs": [
    {
     "name": "stdout",
     "output_type": "stream",
     "text": [
      "Accuracy per each class:\n",
      "true\n",
      "mental    98.630137\n",
      "rnd       93.835616\n",
      "Name: Accuracy (%), dtype: float64\n"
     ]
    }
   ],
   "source": [
    "df = pd.read_csv('prediction_results_social_lr_with_corr.csv')\n",
    "df['correct'] = df['true'] == df['pred']\n",
    "accuracy_per_class = df.groupby('true')['correct'].mean()\n",
    "accuracy_per_class = accuracy_per_class * 100\n",
    "accuracy_per_class = accuracy_per_class.rename('Accuracy (%)')\n",
    "accuracy_per_class = accuracy_per_class.sort_values(ascending=False)\n",
    "\n",
    "print(\"Accuracy per each class:\")\n",
    "print(accuracy_per_class)\n",
    "\n"
   ]
  },
  {
   "cell_type": "code",
   "execution_count": 42,
   "id": "dff2a17a",
   "metadata": {},
   "outputs": [
    {
     "name": "stdout",
     "output_type": "stream",
     "text": [
      "              precision    recall  f1-score   support\n",
      "\n",
      "      mental       0.94      0.99      0.96       146\n",
      "         rnd       0.99      0.94      0.96       146\n",
      "\n",
      "    accuracy                           0.96       292\n",
      "   macro avg       0.96      0.96      0.96       292\n",
      "weighted avg       0.96      0.96      0.96       292\n",
      "\n"
     ]
    }
   ],
   "source": [
    "from sklearn.metrics import confusion_matrix, classification_report\n",
    "import matplotlib.pyplot as plt\n",
    "import seaborn as sns\n",
    "\n",
    "cm = confusion_matrix(df['true'], df['pred'])\n",
    "\n",
    "print(classification_report(df['true'], df['pred']))"
   ]
  },
  {
   "cell_type": "markdown",
   "id": "a31ed336",
   "metadata": {},
   "source": [
    "# RELATIONAL (LR)"
   ]
  },
  {
   "cell_type": "code",
   "execution_count": null,
   "id": "9bba0a51",
   "metadata": {},
   "outputs": [],
   "source": [
    "base_dir = 'vertices_mean_extended/RELATIONAL/LR'  \n",
    "output_dir = 'pairwise_relational_LR'\n",
    "classes = ['relation', 'match']\n",
    "models_dir = 'models_relational_corr'\n",
    "features = ['mean', 'std']\n",
    "results_name = \"prediction_results_relational_lr_with_corr.csv\"\n",
    "true_labels, data_matrix, pkl_paths, le = train_models_and_find_files(base_dir, output_dir, classes, models_dir, corr_map, features)"
   ]
  },
  {
   "cell_type": "code",
   "execution_count": null,
   "id": "b96d8c7f",
   "metadata": {},
   "outputs": [],
   "source": [
    "models = {}\n",
    "for i in range(1, number_of_vertices):  \n",
    "    for j in range(i + 1, number_of_vertices):\n",
    "        model_name = f'logreg_v{i}_v{j}.joblib'\n",
    "        model_path = os.path.join(models_dir, model_name)\n",
    "        if os.path.exists(model_path):\n",
    "            models[(i, j)] = load(model_path)['model']\n",
    "pairs = sorted(models.keys())\n",
    "print(f\"Will test on {len(pairs)} modelled pairs.\")\n",
    "corr_df = pd.read_csv(corr_graph_path)\n",
    "corr_map = dict(zip(corr_df['pair'], corr_df['weight']))\n",
    "print(f\"Loaded {len(corr_map)} correlation entries.\")"
   ]
  },
  {
   "cell_type": "code",
   "execution_count": null,
   "id": "2b017b15",
   "metadata": {},
   "outputs": [],
   "source": [
    "results = Parallel(n_jobs=-1)(\n",
    "delayed(predict_for_sample)(p) for p in tqdm(pkl_paths))\n",
    "\n",
    "accuracy = sum(r['correct'] for r in results) / len(results)\n",
    "print(f\"Total accuracy: {accuracy:.4f}\")\n",
    "res_df = pd.DataFrame(results)\n",
    "res_df.to_csv(results_name, index=False)\n",
    "res_df.head()\n"
   ]
  },
  {
   "cell_type": "code",
   "execution_count": 43,
   "id": "e18b1942",
   "metadata": {},
   "outputs": [
    {
     "name": "stdout",
     "output_type": "stream",
     "text": [
      "Accuracy per each class:\n",
      "true\n",
      "match       83.561644\n",
      "relation    80.136986\n",
      "Name: Accuracy (%), dtype: float64\n"
     ]
    }
   ],
   "source": [
    "df = pd.read_csv('prediction_results_relational_lr_with_corr.csv')\n",
    "df['correct'] = df['true'] == df['pred']\n",
    "accuracy_per_class = df.groupby('true')['correct'].mean()\n",
    "accuracy_per_class = accuracy_per_class * 100\n",
    "accuracy_per_class = accuracy_per_class.rename('Accuracy (%)')\n",
    "accuracy_per_class = accuracy_per_class.sort_values(ascending=False)\n",
    "\n",
    "print(\"Accuracy per each class:\")\n",
    "print(accuracy_per_class)\n",
    "\n"
   ]
  },
  {
   "cell_type": "code",
   "execution_count": 44,
   "id": "b0ddf919",
   "metadata": {},
   "outputs": [
    {
     "name": "stdout",
     "output_type": "stream",
     "text": [
      "              precision    recall  f1-score   support\n",
      "\n",
      "       match       0.81      0.84      0.82       146\n",
      "    relation       0.83      0.80      0.82       146\n",
      "\n",
      "    accuracy                           0.82       292\n",
      "   macro avg       0.82      0.82      0.82       292\n",
      "weighted avg       0.82      0.82      0.82       292\n",
      "\n"
     ]
    }
   ],
   "source": [
    "from sklearn.metrics import confusion_matrix, classification_report\n",
    "import matplotlib.pyplot as plt\n",
    "import seaborn as sns\n",
    "\n",
    "cm = confusion_matrix(df['true'], df['pred'])\n",
    "\n",
    "print(classification_report(df['true'], df['pred']))"
   ]
  },
  {
   "cell_type": "markdown",
   "id": "2626cff1",
   "metadata": {},
   "source": [
    "# EMOTIONAL (RL)"
   ]
  },
  {
   "cell_type": "code",
   "execution_count": 6,
   "id": "a23b38ca",
   "metadata": {},
   "outputs": [
    {
     "name": "stdout",
     "output_type": "stream",
     "text": [
      "Loaded 168490 correlation entries.\n"
     ]
    }
   ],
   "source": [
    "corr_graph_path    = \"graph_RL.csv\"       \n",
    "test_base_dir      = \"vertices_mean_extended/EMOTIONAL/RL\"\n",
    "corr_df = pd.read_csv(corr_graph_path)\n",
    "corr_map = dict(zip(corr_df['pair'], corr_df['weight']))\n",
    "print(f\"Loaded {len(corr_map)} correlation entries.\")"
   ]
  },
  {
   "cell_type": "code",
   "execution_count": 7,
   "id": "5e989984",
   "metadata": {},
   "outputs": [],
   "source": [
    "base_dir = 'vertices_mean_extended/EMOTIONAL/RL'  \n",
    "output_dir = 'pairwise_emotional_RL'\n",
    "classes = ['fear', 'neut']\n",
    "models_dir = 'models_emotional_corr_RL'\n",
    "features = ['mean', 'std']\n",
    "results_name = \"prediction_results_emotional_rl_with_corr.csv\""
   ]
  },
  {
   "cell_type": "code",
   "execution_count": 17,
   "id": "2e4c481d",
   "metadata": {
    "scrolled": true
   },
   "outputs": [
    {
     "name": "stdout",
     "output_type": "stream",
     "text": [
      "Найдено 71631 парных датасетов.\n"
     ]
    },
    {
     "name": "stderr",
     "output_type": "stream",
     "text": [
      "Loading all pkls: 100%|█████████████████████| 292/292 [00:00<00:00, 1349.03it/s]\n"
     ]
    }
   ],
   "source": [
    "true_labels, data_matrix, pkl_paths, le = train_models_and_find_files(base_dir, output_dir, classes, models_dir, corr_map, features)"
   ]
  },
  {
   "cell_type": "code",
   "execution_count": 14,
   "id": "8b2ef3a6",
   "metadata": {},
   "outputs": [
    {
     "name": "stdout",
     "output_type": "stream",
     "text": [
      "Will test on 71631 modelled pairs.\n"
     ]
    }
   ],
   "source": [
    "models = {}\n",
    "for i in range(1, number_of_vertices):  \n",
    "    for j in range(i + 1, number_of_vertices):\n",
    "        model_name = f'logreg_v{i}_v{j}.joblib'\n",
    "        model_path = os.path.join(models_dir, model_name)\n",
    "        if os.path.exists(model_path):\n",
    "            models[(i, j)] = load(model_path)['model']\n",
    "pairs = sorted(models.keys())\n",
    "print(f\"Will test on {len(pairs)} modelled pairs.\")"
   ]
  },
  {
   "cell_type": "code",
   "execution_count": null,
   "id": "45f8466e",
   "metadata": {},
   "outputs": [],
   "source": [
    "results = Parallel(n_jobs=-1)(\n",
    "delayed(predict_for_sample)(p) for p in tqdm(pkl_paths))\n",
    "\n",
    "accuracy = sum(r['correct'] for r in results) / len(results)\n",
    "print(f\"Total accuracy: {accuracy:.4f}\")\n",
    "res_df = pd.DataFrame(results)\n",
    "res_df.to_csv(results_name, index=False)\n",
    "res_df.head()\n"
   ]
  },
  {
   "cell_type": "markdown",
   "id": "d6e3f8a2",
   "metadata": {},
   "source": [
    "# GAMBLING (RL)"
   ]
  },
  {
   "cell_type": "code",
   "execution_count": 9,
   "id": "3e259a46",
   "metadata": {},
   "outputs": [
    {
     "name": "stdout",
     "output_type": "stream",
     "text": [
      "Loaded 168490 correlation entries.\n"
     ]
    }
   ],
   "source": [
    "corr_graph_path    = \"graph_RL.csv\"       \n",
    "test_base_dir      = \"vertices_mean_extended/GAMBLING/RL\"\n",
    "corr_df = pd.read_csv(corr_graph_path)\n",
    "corr_map = dict(zip(corr_df['pair'], corr_df['weight']))\n",
    "print(f\"Loaded {len(corr_map)} correlation entries.\")"
   ]
  },
  {
   "cell_type": "code",
   "execution_count": 11,
   "id": "131bdd6b",
   "metadata": {},
   "outputs": [],
   "source": [
    "base_dir = 'vertices_mean_extended/GAMBLING/RL'  \n",
    "output_dir = 'pairwise_gambling_RL'\n",
    "classes = ['loss', 'win']\n",
    "models_dir = 'models_gambling_corr_RL'\n",
    "features = ['mean', 'std']\n",
    "results_name = \"prediction_results_gambling_rl_with_corr.csv\""
   ]
  },
  {
   "cell_type": "code",
   "execution_count": 13,
   "id": "9b0f324a",
   "metadata": {
    "scrolled": true
   },
   "outputs": [
    {
     "name": "stdout",
     "output_type": "stream",
     "text": [
      "Найдено 71631 парных датасетов.\n"
     ]
    },
    {
     "name": "stderr",
     "output_type": "stream",
     "text": [
      "Loading all pkls: 100%|█████████████████████| 292/292 [00:00<00:00, 1298.03it/s]\n"
     ]
    }
   ],
   "source": [
    "true_labels, data_matrix, pkl_paths, le = train_models_and_find_files(base_dir, output_dir, classes, models_dir, corr_map, features)"
   ]
  },
  {
   "cell_type": "code",
   "execution_count": 15,
   "id": "439e0299",
   "metadata": {},
   "outputs": [
    {
     "name": "stdout",
     "output_type": "stream",
     "text": [
      "Will test on 71631 modelled pairs.\n"
     ]
    }
   ],
   "source": [
    "models = {}\n",
    "for i in range(1, number_of_vertices):  \n",
    "    for j in range(i + 1, number_of_vertices):\n",
    "        model_name = f'logreg_v{i}_v{j}.joblib'\n",
    "        model_path = os.path.join(models_dir, model_name)\n",
    "        if os.path.exists(model_path):\n",
    "            models[(i, j)] = load(model_path)['model']\n",
    "pairs = sorted(models.keys())\n",
    "print(f\"Will test on {len(pairs)} modelled pairs.\")"
   ]
  },
  {
   "cell_type": "code",
   "execution_count": 21,
   "id": "4ad55dc6",
   "metadata": {},
   "outputs": [
    {
     "name": "stderr",
     "output_type": "stream",
     "text": [
      "100%|█████████████████████████████████████████| 292/292 [59:43<00:00, 12.27s/it]\n"
     ]
    },
    {
     "name": "stdout",
     "output_type": "stream",
     "text": [
      "Total accuracy: 0.7945\n"
     ]
    },
    {
     "data": {
      "text/html": [
       "<div>\n",
       "<style scoped>\n",
       "    .dataframe tbody tr th:only-of-type {\n",
       "        vertical-align: middle;\n",
       "    }\n",
       "\n",
       "    .dataframe tbody tr th {\n",
       "        vertical-align: top;\n",
       "    }\n",
       "\n",
       "    .dataframe thead th {\n",
       "        text-align: right;\n",
       "    }\n",
       "</style>\n",
       "<table border=\"1\" class=\"dataframe\">\n",
       "  <thead>\n",
       "    <tr style=\"text-align: right;\">\n",
       "      <th></th>\n",
       "      <th>file</th>\n",
       "      <th>true</th>\n",
       "      <th>pred</th>\n",
       "      <th>conf</th>\n",
       "      <th>correct</th>\n",
       "    </tr>\n",
       "  </thead>\n",
       "  <tbody>\n",
       "    <tr>\n",
       "      <th>0</th>\n",
       "      <td>vertices_mean_extended/GAMBLING/RL/990366_RL_w...</td>\n",
       "      <td>win</td>\n",
       "      <td>win</td>\n",
       "      <td>0.539302</td>\n",
       "      <td>True</td>\n",
       "    </tr>\n",
       "    <tr>\n",
       "      <th>1</th>\n",
       "      <td>vertices_mean_extended/GAMBLING/RL/990366_RL_l...</td>\n",
       "      <td>loss</td>\n",
       "      <td>loss</td>\n",
       "      <td>0.514263</td>\n",
       "      <td>True</td>\n",
       "    </tr>\n",
       "    <tr>\n",
       "      <th>2</th>\n",
       "      <td>vertices_mean_extended/GAMBLING/RL/211316_RL_w...</td>\n",
       "      <td>win</td>\n",
       "      <td>win</td>\n",
       "      <td>0.553800</td>\n",
       "      <td>True</td>\n",
       "    </tr>\n",
       "    <tr>\n",
       "      <th>3</th>\n",
       "      <td>vertices_mean_extended/GAMBLING/RL/211316_RL_l...</td>\n",
       "      <td>loss</td>\n",
       "      <td>loss</td>\n",
       "      <td>0.561572</td>\n",
       "      <td>True</td>\n",
       "    </tr>\n",
       "    <tr>\n",
       "      <th>4</th>\n",
       "      <td>vertices_mean_extended/GAMBLING/RL/141119_RL_l...</td>\n",
       "      <td>loss</td>\n",
       "      <td>loss</td>\n",
       "      <td>0.649955</td>\n",
       "      <td>True</td>\n",
       "    </tr>\n",
       "  </tbody>\n",
       "</table>\n",
       "</div>"
      ],
      "text/plain": [
       "                                                file  true  pred      conf  \\\n",
       "0  vertices_mean_extended/GAMBLING/RL/990366_RL_w...   win   win  0.539302   \n",
       "1  vertices_mean_extended/GAMBLING/RL/990366_RL_l...  loss  loss  0.514263   \n",
       "2  vertices_mean_extended/GAMBLING/RL/211316_RL_w...   win   win  0.553800   \n",
       "3  vertices_mean_extended/GAMBLING/RL/211316_RL_l...  loss  loss  0.561572   \n",
       "4  vertices_mean_extended/GAMBLING/RL/141119_RL_l...  loss  loss  0.649955   \n",
       "\n",
       "   correct  \n",
       "0     True  \n",
       "1     True  \n",
       "2     True  \n",
       "3     True  \n",
       "4     True  "
      ]
     },
     "execution_count": 21,
     "metadata": {},
     "output_type": "execute_result"
    }
   ],
   "source": [
    "results = Parallel(n_jobs=-1)(\n",
    "delayed(predict_for_sample)(p) for p in tqdm(pkl_paths))\n",
    "\n",
    "accuracy = sum(r['correct'] for r in results) / len(results)\n",
    "print(f\"Total accuracy: {accuracy:.4f}\")\n",
    "res_df = pd.DataFrame(results)\n",
    "res_df.to_csv(results_name, index=False)\n",
    "res_df.head()\n"
   ]
  },
  {
   "cell_type": "markdown",
   "id": "8689e52c",
   "metadata": {},
   "source": [
    "# LANGUAGE (RL)"
   ]
  },
  {
   "cell_type": "code",
   "execution_count": 32,
   "id": "635590fb",
   "metadata": {},
   "outputs": [
    {
     "name": "stdout",
     "output_type": "stream",
     "text": [
      "Loaded 168490 correlation entries.\n"
     ]
    }
   ],
   "source": [
    "corr_graph_path    = \"graph_RL.csv\"       \n",
    "test_base_dir      = \"vertices_mean_extended/LANGUAGE/RL\"\n",
    "corr_df = pd.read_csv(corr_graph_path)\n",
    "corr_map = dict(zip(corr_df['pair'], corr_df['weight']))\n",
    "print(f\"Loaded {len(corr_map)} correlation entries.\")"
   ]
  },
  {
   "cell_type": "code",
   "execution_count": 33,
   "id": "a95a5ad1",
   "metadata": {},
   "outputs": [],
   "source": [
    "base_dir = 'vertices_mean_extended/LANGUAGE/RL'  \n",
    "output_dir = 'pairwise_language_RL'\n",
    "classes = ['story', 'math']\n",
    "models_dir = 'models_language_corr_RL'\n",
    "features = ['mean', 'std']\n",
    "results_name = \"prediction_results_language_rl_with_corr.csv\""
   ]
  },
  {
   "cell_type": "code",
   "execution_count": null,
   "id": "862bd6c1",
   "metadata": {
    "scrolled": true
   },
   "outputs": [],
   "source": [
    "true_labels, data_matrix, pkl_paths, le = train_models_and_find_files(base_dir, output_dir, classes, models_dir, corr_map, features)"
   ]
  },
  {
   "cell_type": "code",
   "execution_count": 35,
   "id": "ed0e6000",
   "metadata": {},
   "outputs": [],
   "source": [
    "models = {}\n",
    "for i in range(1, number_of_vertices):  \n",
    "    for j in range(i + 1, number_of_vertices):\n",
    "        model_name = f'logreg_v{i}_v{j}.joblib'\n",
    "        model_path = os.path.join(models_dir, model_name)\n",
    "        if os.path.exists(model_path):\n",
    "            models[(i, j)] = load(model_path)['model']\n",
    "pairs = sorted(models.keys())\n",
    "print(f\"Will test on {len(pairs)} modelled pairs.\")"
   ]
  },
  {
   "cell_type": "code",
   "execution_count": 36,
   "id": "9297ba46",
   "metadata": {},
   "outputs": [],
   "source": [
    "results = Parallel(n_jobs=-1)(\n",
    "delayed(predict_for_sample)(p) for p in tqdm(pkl_paths))\n",
    "\n",
    "accuracy = sum(r['correct'] for r in results) / len(results)\n",
    "print(f\"Total accuracy: {accuracy:.4f}\")\n",
    "res_df = pd.DataFrame(results)\n",
    "res_df.to_csv(results_name, index=False)\n",
    "res_df.head()\n"
   ]
  },
  {
   "cell_type": "code",
   "execution_count": 24,
   "id": "7ad6fc0c",
   "metadata": {},
   "outputs": [
    {
     "name": "stdout",
     "output_type": "stream",
     "text": [
      "Accuracy per each class:\n",
      "true\n",
      "math     100.0\n",
      "story    100.0\n",
      "Name: Accuracy (%), dtype: float64\n"
     ]
    }
   ],
   "source": [
    "df = pd.read_csv('prediction_results_language_rl_with_corr.csv')\n",
    "df['correct'] = df['true'] == df['pred']\n",
    "accuracy_per_class = df.groupby('true')['correct'].mean()\n",
    "accuracy_per_class = accuracy_per_class * 100\n",
    "accuracy_per_class = accuracy_per_class.rename('Accuracy (%)')\n",
    "accuracy_per_class = accuracy_per_class.sort_values(ascending=False)\n",
    "\n",
    "print(\"Accuracy per each class:\")\n",
    "print(accuracy_per_class)\n",
    "\n"
   ]
  },
  {
   "cell_type": "markdown",
   "id": "9481656f",
   "metadata": {},
   "source": [
    "# MOTOR (RL)"
   ]
  },
  {
   "cell_type": "code",
   "execution_count": 27,
   "id": "7e88e666",
   "metadata": {},
   "outputs": [
    {
     "name": "stdout",
     "output_type": "stream",
     "text": [
      "Loaded 168490 correlation entries.\n"
     ]
    }
   ],
   "source": [
    "corr_graph_path    = \"graph_RL.csv\"       \n",
    "test_base_dir      = \"vertices_mean_extended/MOTOR/RL\"\n",
    "corr_df = pd.read_csv(corr_graph_path)\n",
    "corr_map = dict(zip(corr_df['pair'], corr_df['weight']))\n",
    "print(f\"Loaded {len(corr_map)} correlation entries.\")"
   ]
  },
  {
   "cell_type": "code",
   "execution_count": 28,
   "id": "336b7612",
   "metadata": {},
   "outputs": [],
   "source": [
    "base_dir = 'vertices_mean_extended/MOTOR/RL'  \n",
    "output_dir = 'pairwise_motor_RL'\n",
    "classes = ['r', 'l']\n",
    "models_dir = 'models_motor_corr_RL'\n",
    "features = ['mean', 'std']\n",
    "results_name = \"prediction_results_motor_rl_with_corr.csv\""
   ]
  },
  {
   "cell_type": "code",
   "execution_count": null,
   "id": "aa561865",
   "metadata": {
    "scrolled": true
   },
   "outputs": [],
   "source": [
    "true_labels, data_matrix, pkl_paths, le = train_models_and_find_files(base_dir, output_dir, classes, models_dir, corr_map, features)"
   ]
  },
  {
   "cell_type": "code",
   "execution_count": null,
   "id": "98920610",
   "metadata": {
    "scrolled": true
   },
   "outputs": [],
   "source": [
    "models = {}\n",
    "for i in range(1, number_of_vertices):  \n",
    "    for j in range(i + 1, number_of_vertices):\n",
    "        model_name = f'logreg_v{i}_v{j}.joblib'\n",
    "        model_path = os.path.join(models_dir, model_name)\n",
    "        if os.path.exists(model_path):\n",
    "            models[(i, j)] = load(model_path)['model']\n",
    "pairs = sorted(models.keys())\n",
    "print(f\"Will test on {len(pairs)} modelled pairs.\")"
   ]
  },
  {
   "cell_type": "code",
   "execution_count": 31,
   "id": "7d0de833",
   "metadata": {},
   "outputs": [
    {
     "name": "stderr",
     "output_type": "stream",
     "text": [
      "100%|█████████████████████████████████████████| 292/292 [53:19<00:00, 10.96s/it]\n"
     ]
    },
    {
     "name": "stdout",
     "output_type": "stream",
     "text": [
      "Total accuracy: 0.8938\n"
     ]
    },
    {
     "data": {
      "text/html": [
       "<div>\n",
       "<style scoped>\n",
       "    .dataframe tbody tr th:only-of-type {\n",
       "        vertical-align: middle;\n",
       "    }\n",
       "\n",
       "    .dataframe tbody tr th {\n",
       "        vertical-align: top;\n",
       "    }\n",
       "\n",
       "    .dataframe thead th {\n",
       "        text-align: right;\n",
       "    }\n",
       "</style>\n",
       "<table border=\"1\" class=\"dataframe\">\n",
       "  <thead>\n",
       "    <tr style=\"text-align: right;\">\n",
       "      <th></th>\n",
       "      <th>file</th>\n",
       "      <th>true</th>\n",
       "      <th>pred</th>\n",
       "      <th>conf</th>\n",
       "      <th>correct</th>\n",
       "    </tr>\n",
       "  </thead>\n",
       "  <tbody>\n",
       "    <tr>\n",
       "      <th>0</th>\n",
       "      <td>vertices_mean_extended/MOTOR/RL/990366_RL_r.pi...</td>\n",
       "      <td>r</td>\n",
       "      <td>r</td>\n",
       "      <td>0.723957</td>\n",
       "      <td>True</td>\n",
       "    </tr>\n",
       "    <tr>\n",
       "      <th>1</th>\n",
       "      <td>vertices_mean_extended/MOTOR/RL/990366_RL_l.pi...</td>\n",
       "      <td>l</td>\n",
       "      <td>l</td>\n",
       "      <td>0.680863</td>\n",
       "      <td>True</td>\n",
       "    </tr>\n",
       "    <tr>\n",
       "      <th>2</th>\n",
       "      <td>vertices_mean_extended/MOTOR/RL/211316_RL_l.pi...</td>\n",
       "      <td>l</td>\n",
       "      <td>l</td>\n",
       "      <td>0.780134</td>\n",
       "      <td>True</td>\n",
       "    </tr>\n",
       "    <tr>\n",
       "      <th>3</th>\n",
       "      <td>vertices_mean_extended/MOTOR/RL/211316_RL_r.pi...</td>\n",
       "      <td>r</td>\n",
       "      <td>r</td>\n",
       "      <td>0.594114</td>\n",
       "      <td>True</td>\n",
       "    </tr>\n",
       "    <tr>\n",
       "      <th>4</th>\n",
       "      <td>vertices_mean_extended/MOTOR/RL/141119_RL_l.pi...</td>\n",
       "      <td>l</td>\n",
       "      <td>r</td>\n",
       "      <td>0.523758</td>\n",
       "      <td>False</td>\n",
       "    </tr>\n",
       "  </tbody>\n",
       "</table>\n",
       "</div>"
      ],
      "text/plain": [
       "                                                file true pred      conf  \\\n",
       "0  vertices_mean_extended/MOTOR/RL/990366_RL_r.pi...    r    r  0.723957   \n",
       "1  vertices_mean_extended/MOTOR/RL/990366_RL_l.pi...    l    l  0.680863   \n",
       "2  vertices_mean_extended/MOTOR/RL/211316_RL_l.pi...    l    l  0.780134   \n",
       "3  vertices_mean_extended/MOTOR/RL/211316_RL_r.pi...    r    r  0.594114   \n",
       "4  vertices_mean_extended/MOTOR/RL/141119_RL_l.pi...    l    r  0.523758   \n",
       "\n",
       "   correct  \n",
       "0     True  \n",
       "1     True  \n",
       "2     True  \n",
       "3     True  \n",
       "4    False  "
      ]
     },
     "execution_count": 31,
     "metadata": {},
     "output_type": "execute_result"
    }
   ],
   "source": [
    "results = Parallel(n_jobs=-1)(\n",
    "delayed(predict_for_sample)(p) for p in tqdm(pkl_paths))\n",
    "\n",
    "accuracy = sum(r['correct'] for r in results) / len(results)\n",
    "print(f\"Total accuracy: {accuracy:.4f}\")\n",
    "res_df = pd.DataFrame(results)\n",
    "res_df.to_csv(results_name, index=False)\n",
    "res_df.head()\n"
   ]
  },
  {
   "cell_type": "markdown",
   "id": "8157b1a7",
   "metadata": {},
   "source": [
    "# RELATIONAL (RL)"
   ]
  },
  {
   "cell_type": "code",
   "execution_count": 22,
   "id": "13ed0eac",
   "metadata": {},
   "outputs": [
    {
     "name": "stdout",
     "output_type": "stream",
     "text": [
      "Loaded 168490 correlation entries.\n"
     ]
    }
   ],
   "source": [
    "corr_graph_path    = \"graph_RL.csv\"       \n",
    "test_base_dir      = \"vertices_mean_extended/RELATIONAL/RL\"\n",
    "corr_df = pd.read_csv(corr_graph_path)\n",
    "corr_map = dict(zip(corr_df['pair'], corr_df['weight']))\n",
    "print(f\"Loaded {len(corr_map)} correlation entries.\")"
   ]
  },
  {
   "cell_type": "code",
   "execution_count": 23,
   "id": "fa457c66",
   "metadata": {},
   "outputs": [],
   "source": [
    "base_dir = 'vertices_mean_extended/RELATIONAL/RL'  \n",
    "output_dir = 'pairwise_relational_RL'\n",
    "classes = ['relation', 'match']\n",
    "models_dir = 'models_relational_corr_RL'\n",
    "features = ['mean', 'std']\n",
    "results_name = \"prediction_results_relational_rl_with_corr.csv\""
   ]
  },
  {
   "cell_type": "code",
   "execution_count": null,
   "id": "1040acfc",
   "metadata": {
    "scrolled": true
   },
   "outputs": [],
   "source": [
    "true_labels, data_matrix, pkl_paths, le = train_models_and_find_files(base_dir, output_dir, classes, models_dir, corr_map, features)"
   ]
  },
  {
   "cell_type": "code",
   "execution_count": 25,
   "id": "40e0f2c7",
   "metadata": {},
   "outputs": [
    {
     "name": "stdout",
     "output_type": "stream",
     "text": [
      "Will test on 71631 modelled pairs.\n"
     ]
    }
   ],
   "source": [
    "models = {}\n",
    "for i in range(1, number_of_vertices):  \n",
    "    for j in range(i + 1, number_of_vertices):\n",
    "        model_name = f'logreg_v{i}_v{j}.joblib'\n",
    "        model_path = os.path.join(models_dir, model_name)\n",
    "        if os.path.exists(model_path):\n",
    "            models[(i, j)] = load(model_path)['model']\n",
    "pairs = sorted(models.keys())\n",
    "print(f\"Will test on {len(pairs)} modelled pairs.\")"
   ]
  },
  {
   "cell_type": "code",
   "execution_count": 26,
   "id": "87ce4a83",
   "metadata": {},
   "outputs": [
    {
     "name": "stderr",
     "output_type": "stream",
     "text": [
      "100%|█████████████████████████████████████████| 292/292 [52:53<00:00, 10.87s/it]\n"
     ]
    },
    {
     "name": "stdout",
     "output_type": "stream",
     "text": [
      "Total accuracy: 0.9555\n"
     ]
    },
    {
     "data": {
      "text/html": [
       "<div>\n",
       "<style scoped>\n",
       "    .dataframe tbody tr th:only-of-type {\n",
       "        vertical-align: middle;\n",
       "    }\n",
       "\n",
       "    .dataframe tbody tr th {\n",
       "        vertical-align: top;\n",
       "    }\n",
       "\n",
       "    .dataframe thead th {\n",
       "        text-align: right;\n",
       "    }\n",
       "</style>\n",
       "<table border=\"1\" class=\"dataframe\">\n",
       "  <thead>\n",
       "    <tr style=\"text-align: right;\">\n",
       "      <th></th>\n",
       "      <th>file</th>\n",
       "      <th>true</th>\n",
       "      <th>pred</th>\n",
       "      <th>conf</th>\n",
       "      <th>correct</th>\n",
       "    </tr>\n",
       "  </thead>\n",
       "  <tbody>\n",
       "    <tr>\n",
       "      <th>0</th>\n",
       "      <td>vertices_mean_extended/RELATIONAL/RL/990366_RL...</td>\n",
       "      <td>relation</td>\n",
       "      <td>relation</td>\n",
       "      <td>0.674461</td>\n",
       "      <td>True</td>\n",
       "    </tr>\n",
       "    <tr>\n",
       "      <th>1</th>\n",
       "      <td>vertices_mean_extended/RELATIONAL/RL/990366_RL...</td>\n",
       "      <td>match</td>\n",
       "      <td>match</td>\n",
       "      <td>0.629641</td>\n",
       "      <td>True</td>\n",
       "    </tr>\n",
       "    <tr>\n",
       "      <th>2</th>\n",
       "      <td>vertices_mean_extended/RELATIONAL/RL/211316_RL...</td>\n",
       "      <td>match</td>\n",
       "      <td>match</td>\n",
       "      <td>0.688166</td>\n",
       "      <td>True</td>\n",
       "    </tr>\n",
       "    <tr>\n",
       "      <th>3</th>\n",
       "      <td>vertices_mean_extended/RELATIONAL/RL/211316_RL...</td>\n",
       "      <td>relation</td>\n",
       "      <td>relation</td>\n",
       "      <td>0.619482</td>\n",
       "      <td>True</td>\n",
       "    </tr>\n",
       "    <tr>\n",
       "      <th>4</th>\n",
       "      <td>vertices_mean_extended/RELATIONAL/RL/141119_RL...</td>\n",
       "      <td>relation</td>\n",
       "      <td>relation</td>\n",
       "      <td>0.700428</td>\n",
       "      <td>True</td>\n",
       "    </tr>\n",
       "  </tbody>\n",
       "</table>\n",
       "</div>"
      ],
      "text/plain": [
       "                                                file      true      pred  \\\n",
       "0  vertices_mean_extended/RELATIONAL/RL/990366_RL...  relation  relation   \n",
       "1  vertices_mean_extended/RELATIONAL/RL/990366_RL...     match     match   \n",
       "2  vertices_mean_extended/RELATIONAL/RL/211316_RL...     match     match   \n",
       "3  vertices_mean_extended/RELATIONAL/RL/211316_RL...  relation  relation   \n",
       "4  vertices_mean_extended/RELATIONAL/RL/141119_RL...  relation  relation   \n",
       "\n",
       "       conf  correct  \n",
       "0  0.674461     True  \n",
       "1  0.629641     True  \n",
       "2  0.688166     True  \n",
       "3  0.619482     True  \n",
       "4  0.700428     True  "
      ]
     },
     "execution_count": 26,
     "metadata": {},
     "output_type": "execute_result"
    }
   ],
   "source": [
    "results = Parallel(n_jobs=-1)(\n",
    "delayed(predict_for_sample)(p) for p in tqdm(pkl_paths))\n",
    "\n",
    "accuracy = sum(r['correct'] for r in results) / len(results)\n",
    "print(f\"Total accuracy: {accuracy:.4f}\")\n",
    "res_df = pd.DataFrame(results)\n",
    "res_df.to_csv(results_name, index=False)\n",
    "res_df.head()\n"
   ]
  },
  {
   "cell_type": "markdown",
   "id": "452b6bc5",
   "metadata": {},
   "source": [
    "# SOCIAL (RL)"
   ]
  },
  {
   "cell_type": "code",
   "execution_count": 6,
   "id": "cb9a8a21",
   "metadata": {},
   "outputs": [],
   "source": [
    "base_dir = 'vertices_mean_extended/SOCIAL/RL'  \n",
    "output_dir = 'pairwise_social_RL'\n",
    "classes = ['rnd', 'mental']\n",
    "models_dir = 'models_social_corr_RL'\n",
    "features = ['mean', 'std']\n",
    "results_name = \"prediction_results_social_rl_with_corr.csv\""
   ]
  },
  {
   "cell_type": "code",
   "execution_count": null,
   "id": "39432b12",
   "metadata": {
    "scrolled": true
   },
   "outputs": [],
   "source": [
    "true_labels, data_matrix, pkl_paths, le = train_models_and_find_files(base_dir, output_dir, classes, models_dir, corr_map, features)"
   ]
  },
  {
   "cell_type": "code",
   "execution_count": 11,
   "id": "0018fae9",
   "metadata": {},
   "outputs": [
    {
     "name": "stdout",
     "output_type": "stream",
     "text": [
      "Will test on 71631 modelled pairs.\n"
     ]
    }
   ],
   "source": [
    "models = {}\n",
    "for i in range(1, number_of_vertices):  \n",
    "    for j in range(i + 1, number_of_vertices):\n",
    "        model_name = f'logreg_v{i}_v{j}.joblib'\n",
    "        model_path = os.path.join(models_dir, model_name)\n",
    "        if os.path.exists(model_path):\n",
    "            models[(i, j)] = load(model_path)['model']\n",
    "pairs = sorted(models.keys())\n",
    "print(f\"Will test on {len(pairs)} modelled pairs.\")"
   ]
  },
  {
   "cell_type": "code",
   "execution_count": null,
   "id": "5902ba7c",
   "metadata": {},
   "outputs": [],
   "source": [
    "results = Parallel(n_jobs=-1)(\n",
    "delayed(predict_for_sample)(p) for p in tqdm(pkl_paths))\n",
    "\n",
    "accuracy = sum(r['correct'] for r in results) / len(results)\n",
    "print(f\"Total accuracy: {accuracy:.4f}\")\n",
    "res_df = pd.DataFrame(results)\n",
    "res_df.to_csv(results_name, index=False)\n",
    "res_df.head()\n"
   ]
  },
  {
   "cell_type": "code",
   "execution_count": 19,
   "id": "e68028c8",
   "metadata": {},
   "outputs": [
    {
     "name": "stdout",
     "output_type": "stream",
     "text": [
      "Accuracy per each class:\n",
      "true\n",
      "rnd       99.315068\n",
      "mental    93.835616\n",
      "Name: Accuracy (%), dtype: float64\n"
     ]
    }
   ],
   "source": [
    "df = pd.read_csv('prediction_results_social_rl_with_corr.csv')\n",
    "df['correct'] = df['true'] == df['pred']\n",
    "accuracy_per_class = df.groupby('true')['correct'].mean()\n",
    "accuracy_per_class = accuracy_per_class * 100\n",
    "accuracy_per_class = accuracy_per_class.rename('Accuracy (%)')\n",
    "accuracy_per_class = accuracy_per_class.sort_values(ascending=False)\n",
    "\n",
    "print(\"Accuracy per each class:\")\n",
    "print(accuracy_per_class)\n",
    "\n"
   ]
  },
  {
   "cell_type": "markdown",
   "id": "7aafc1d3",
   "metadata": {},
   "source": [
    "# WM (RL)"
   ]
  },
  {
   "cell_type": "code",
   "execution_count": 17,
   "id": "8588af25",
   "metadata": {},
   "outputs": [],
   "source": [
    "base_dir = 'vertices_mean_extended/WM/RL'  \n",
    "output_dir = 'pairwise_wm_RL'\n",
    "classes = ['0bk', '2bk']\n",
    "models_dir = 'models_wm_corr_RL'\n",
    "features = ['mean', 'std']\n",
    "results_name = \"prediction_results_wm_rl_with_corr.csv\""
   ]
  },
  {
   "cell_type": "code",
   "execution_count": null,
   "id": "f00b2ce4",
   "metadata": {},
   "outputs": [],
   "source": [
    "true_labels, data_matrix, pkl_paths, le = train_models_and_find_files(base_dir, output_dir, classes, models_dir, corr_map, features)"
   ]
  },
  {
   "cell_type": "code",
   "execution_count": 21,
   "id": "ec329a3e",
   "metadata": {},
   "outputs": [],
   "source": [
    "models = {}\n",
    "for i in range(1, number_of_vertices):  \n",
    "    for j in range(i + 1, number_of_vertices):\n",
    "        model_name = f'logreg_v{i}_v{j}.joblib'\n",
    "        model_path = os.path.join(models_dir, model_name)\n",
    "        if os.path.exists(model_path):\n",
    "            models[(i, j)] = load(model_path)['model']\n",
    "pairs = sorted(models.keys())\n",
    "print(f\"Will test on {len(pairs)} modelled pairs.\")"
   ]
  },
  {
   "cell_type": "code",
   "execution_count": null,
   "id": "9e9f3989",
   "metadata": {},
   "outputs": [],
   "source": [
    "results = Parallel(n_jobs=-1)(\n",
    "delayed(predict_for_sample)(p) for p in tqdm(pkl_paths))\n",
    "\n",
    "accuracy = sum(r['correct'] for r in results) / len(results)\n",
    "print(f\"Total accuracy: {accuracy:.4f}\")\n",
    "res_df = pd.DataFrame(results)\n",
    "res_df.to_csv(results_name, index=False)\n",
    "res_df.head()\n"
   ]
  }
 ],
 "metadata": {
  "kernelspec": {
   "display_name": "Python 3 (ipykernel)",
   "language": "python",
   "name": "python3"
  },
  "language_info": {
   "codemirror_mode": {
    "name": "ipython",
    "version": 3
   },
   "file_extension": ".py",
   "mimetype": "text/x-python",
   "name": "python",
   "nbconvert_exporter": "python",
   "pygments_lexer": "ipython3",
   "version": "3.10.12"
  }
 },
 "nbformat": 4,
 "nbformat_minor": 5
}
