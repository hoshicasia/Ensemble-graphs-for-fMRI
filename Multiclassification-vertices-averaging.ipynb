{
 "cells": [
  {
   "cell_type": "code",
   "execution_count": 5,
   "id": "3d292a1e-4593-4cba-9ff5-cbd5b40d26e3",
   "metadata": {
    "execution": {
     "iopub.execute_input": "2025-05-06T15:43:05.143726Z",
     "iopub.status.busy": "2025-05-06T15:43:05.142805Z",
     "iopub.status.idle": "2025-05-06T15:43:20.957003Z",
     "shell.execute_reply": "2025-05-06T15:43:20.956130Z",
     "shell.execute_reply.started": "2025-05-06T15:43:05.143696Z"
    },
    "tags": []
   },
   "outputs": [],
   "source": [
    "                                                                                                                                                                                                                             import pandas as pd\n",
    "import numpy as np\n",
    "import os\n",
    "import shutil\n",
    "import glob\n",
    "from tqdm import tqdm\n",
    "from multiprocessing import Pool, cpu_count\n",
    "from itertools import combinations\n",
    "from joblib import Parallel, delayed, dump\n",
    "from sklearn.linear_model import LogisticRegression\n",
    "from sklearn.model_selection import train_test_split\n",
    "from sklearn.preprocessing import LabelEncoder\n",
    "from sklearn.metrics import classification_report, accuracy_score\n",
    "from pathlib import Path\n",
    "from joblib import load\n",
    "from sklearn.model_selection import GridSearchCV\n",
    "from joblib import Parallel, delayed\n",
    "import gc\n",
    "from tqdm import tqdm\n",
    "import torch\n",
    "from sklearn.model_selection import KFold\n",
    "from torch_geometric.data import Data, DataLoader\n",
    "from torch_geometric.nn import GCNConv, global_mean_pool\n",
    "import joblib"
   ]
  },
  {
   "cell_type": "code",
   "execution_count": 12,
   "id": "15fc4e2b-01ba-429f-a8ca-616f03167ea1",
   "metadata": {
    "execution": {
     "iopub.execute_input": "2025-05-05T17:01:32.230297Z",
     "iopub.status.busy": "2025-05-05T17:01:32.229197Z",
     "iopub.status.idle": "2025-05-05T17:01:32.255146Z",
     "shell.execute_reply": "2025-05-05T17:01:32.254320Z",
     "shell.execute_reply.started": "2025-05-05T17:01:32.230265Z"
    },
    "tags": []
   },
   "outputs": [],
   "source": [
    "def get_samples(vertices_folder, classes=None):\n",
    "    sample_ids, labels = [], []\n",
    "    for path in glob.glob(os.path.join(vertices_folder, '*_RL_*.pickle')):\n",
    "        fname = os.path.basename(path)\n",
    "        parts = fname.split('_')\n",
    "        sample_id = parts[0]\n",
    "        cls = parts[-1].split('.')[0]\n",
    "        if classes is None or cls in classes:\n",
    "            sample_ids.append(sample_id)\n",
    "            labels.append(cls)\n",
    "    return sample_ids, labels"
   ]
  },
  {
   "cell_type": "code",
   "execution_count": 13,
   "id": "d96696ef-4fe0-4321-bf71-ea0903e011e1",
   "metadata": {
    "execution": {
     "iopub.execute_input": "2025-05-05T17:01:32.927059Z",
     "iopub.status.busy": "2025-05-05T17:01:32.925966Z",
     "iopub.status.idle": "2025-05-05T17:01:33.175648Z",
     "shell.execute_reply": "2025-05-05T17:01:33.174776Z",
     "shell.execute_reply.started": "2025-05-05T17:01:32.927022Z"
    },
    "tags": []
   },
   "outputs": [],
   "source": [
    "all_ids, all_labels = get_samples(vertices_dir)"
   ]
  },
  {
   "cell_type": "code",
   "execution_count": 15,
   "id": "257efb2e-7c96-4eab-9c53-6c4172c650b1",
   "metadata": {
    "execution": {
     "iopub.execute_input": "2025-05-05T17:01:50.093141Z",
     "iopub.status.busy": "2025-05-05T17:01:50.092380Z",
     "iopub.status.idle": "2025-05-05T17:01:50.107489Z",
     "shell.execute_reply": "2025-05-05T17:01:50.106670Z",
     "shell.execute_reply.started": "2025-05-05T17:01:50.093111Z"
    },
    "tags": []
   },
   "outputs": [],
   "source": [
    "def load_all_data(vertices_folder, corr_folder, sample_ids, labels, n_vertices=379, dtype=np.float32):\n",
    "    n_samples = len(sample_ids)\n",
    "    edges = build_edge_list(n_vertices)\n",
    "    n_edges = len(edges)\n",
    "\n",
    "    means_all = np.zeros((n_samples, n_vertices), dtype=dtype)\n",
    "    stds_all  = np.zeros((n_samples, n_vertices), dtype=dtype)\n",
    "    weights_all = np.zeros((n_samples, n_edges), dtype=dtype)\n",
    "\n",
    "    for idx, (sid, cls) in tqdm(enumerate(zip(sample_ids, labels))):\n",
    "        vfile = os.path.join(vertices_folder, f\"{sid}_RL_{cls}.pickle\")\n",
    "        df_v = pd.read_pickle(vfile)\n",
    "        means_all[idx] = df_v['mean'].values.astype(dtype)\n",
    "        stds_all[idx]  = df_v['std'].values.astype(dtype)\n",
    "\n",
    "        corr_file = os.path.join(corr_folder, f\"{sid}_RL_{cls}.pkl\")\n",
    "        df_c = pd.read_pickle(corr_file)\n",
    "        df_c['i'] = df_c['vertex_1'].str[1:].astype(int)\n",
    "        df_c['j'] = df_c['vertex_2'].str[1:].astype(int)\n",
    "        df_c.sort_values(['i', 'j'], inplace=True)\n",
    "        weights_all[idx] = df_c['weight'].values.astype(dtype)\n",
    "\n",
    "    return means_all, stds_all, weights_all, edges\n",
    "\n"
   ]
  },
  {
   "cell_type": "code",
   "execution_count": null,
   "id": "37e16971-811c-4848-99b3-391b94fc845c",
   "metadata": {},
   "outputs": [],
   "source": [
    "def train_edge_models(means, stds, weights, y, n_jobs=-1):\n",
    "    n_edges = weights.shape[1]\n",
    "    coefs = np.zeros((n_edges, len(np.unique(y)), 5), np.float32)\n",
    "    intercepts = np.zeros((n_edges, len(np.unique(y))), np.float32)\n",
    "\n",
    "    results = Parallel(n_jobs=n_jobs)(\n",
    "        delayed(fit_one_edge)(k, means, stds, weights, y)\n",
    "        for k in tqdm(range(n_edges))\n",
    "    )\n",
    "    for k, coef, interc in results:\n",
    "        coefs[k] = coef\n",
    "        intercepts[k] = interc\n",
    "    return coefs, intercepts"
   ]
  },
  {
   "cell_type": "code",
   "execution_count": 12,
   "id": "9f27e354-2141-495c-9191-d5d255eeea45",
   "metadata": {
    "execution": {
     "iopub.execute_input": "2025-05-06T15:45:09.282259Z",
     "iopub.status.busy": "2025-05-06T15:45:09.281067Z",
     "iopub.status.idle": "2025-05-06T15:45:09.291155Z",
     "shell.execute_reply": "2025-05-06T15:45:09.290454Z",
     "shell.execute_reply.started": "2025-05-06T15:45:09.282220Z"
    },
    "tags": []
   },
   "outputs": [],
   "source": [
    "def build_edge_list(n_vertices=379):\n",
    "    return [(i, j) for i in range(n_vertices) for j in range(i + 1, n_vertices)]"
   ]
  },
  {
   "cell_type": "code",
   "execution_count": null,
   "id": "43c99ae1-23dc-4620-bffd-558a36bb28fc",
   "metadata": {},
   "outputs": [],
   "source": [
    "def sample_probs_per_edge(mean, std, weights, edges, coefs, intercepts):\n",
    "    X = np.stack([\n",
    "        mean[[i for i,_ in edges]],\n",
    "        std [[i for i,_ in edges]],\n",
    "        mean[[j for _,j in edges]],\n",
    "        std [[j for _,j in edges]],\n",
    "        weights\n",
    "    ], axis=1) \n",
    "    logits = (coefs * X[:,None,:]).sum(axis=2) + intercepts\n",
    "    return scipy.special.softmax(logits, axis=1)  "
   ]
  },
  {
   "cell_type": "code",
   "execution_count": null,
   "id": "280c9c30-787e-453a-8fc8-4d906b3c4e6f",
   "metadata": {},
   "outputs": [],
   "source": [
    "def build_vertex_features_for_sample(probs_per_edge, vertex_to_edges):\n",
    "    n_classes = probs_per_edge.shape[1]\n",
    "    feats = []\n",
    "    for incident in vertex_to_edges:\n",
    "        if len(incident)>0:\n",
    "            vp = probs_per_edge[incident].mean(axis=0)\n",
    "        else:\n",
    "            vp = np.zeros(n_classes, dtype=probs_per_edge.dtype)\n",
    "        feats.append(vp)\n",
    "    return np.concatenate(feats)  "
   ]
  },
  {
   "cell_type": "markdown",
   "id": "8e5ebc10-fd27-44b3-a1e7-2ec922179f01",
   "metadata": {
    "tags": []
   },
   "source": [
    "# OOF averaging for vertices, RL"
   ]
  },
  {
   "cell_type": "code",
   "execution_count": null,
   "id": "0b8fea09-b525-4d85-8202-195b809b3b96",
   "metadata": {
    "tags": []
   },
   "outputs": [],
   "source": [
    "\n",
    "n_train = means_train.shape[0]\n",
    "n_vertices = means_train.shape[1]\n",
    "\n",
    "le = LabelEncoder()\n",
    "y_train_enc = le.fit_transform(train_labels)\n",
    "\n",
    "n_edge_classes = len(np.unique(y_train_enc))\n",
    "n_vertex_feats = n_vertices * n_edge_classes\n",
    "X_train_oof = np.zeros((n_train, n_vertex_feats), dtype=np.float32)\n",
    "\n",
    "kf = KFold(n_splits=3, shuffle=True, random_state=42)\n",
    "vertex_to_edges = build_vertex_edge_map(edges, n_vertices)\n",
    "\n",
    "for train_idx, val_idx in tqdm(kf.split(range(n_train))):\n",
    "    coefs_cv, intercepts_cv = train_edge_models(\n",
    "        means_train[train_idx], stds_train[train_idx],\n",
    "        weights_train[train_idx], y_train_enc[train_idx], n_jobs=-1\n",
    "    )\n",
    "\n",
    "    for idx in val_idx:\n",
    "        mean, std, weights = means_train[idx], stds_train[idx], weights_train[idx]\n",
    "        probs_edge = sample_probs_per_edge(mean, std, weights, edges, coefs_cv, intercepts_cv)\n",
    "        X_train_oof[idx] = build_vertex_features_for_sample(probs_edge, vertex_to_edges)"
   ]
  },
  {
   "cell_type": "code",
   "execution_count": 23,
   "id": "85a639e5-eb37-4ec6-9dfc-2ef6b58247c2",
   "metadata": {
    "execution": {
     "iopub.execute_input": "2025-05-05T18:05:24.247483Z",
     "iopub.status.busy": "2025-05-05T18:05:24.246256Z",
     "iopub.status.idle": "2025-05-05T18:23:50.313331Z",
     "shell.execute_reply": "2025-05-05T18:23:50.312046Z",
     "shell.execute_reply.started": "2025-05-05T18:05:24.247442Z"
    },
    "tags": []
   },
   "outputs": [
    {
     "name": "stderr",
     "output_type": "stream",
     "text": [
      "100%|██████████| 71631/71631 [18:24<00:00, 64.86it/s]\n"
     ]
    }
   ],
   "source": [
    "\n",
    "coefs_full, intercepts_full = train_edge_models(\n",
    "    means_train, stds_train, weights_train, y_train_enc, n_jobs=-1\n",
    ")\n"
   ]
  },
  {
   "cell_type": "code",
   "execution_count": 26,
   "id": "ba203a6e-8d42-459b-9533-600a3e3246a5",
   "metadata": {
    "execution": {
     "iopub.execute_input": "2025-05-05T18:33:19.032453Z",
     "iopub.status.busy": "2025-05-05T18:33:19.031510Z",
     "iopub.status.idle": "2025-05-05T18:36:06.990487Z",
     "shell.execute_reply": "2025-05-05T18:36:06.988114Z",
     "shell.execute_reply.started": "2025-05-05T18:33:19.032422Z"
    },
    "tags": []
   },
   "outputs": [
    {
     "data": {
      "text/html": [
       "<style>#sk-container-id-1 {color: black;background-color: white;}#sk-container-id-1 pre{padding: 0;}#sk-container-id-1 div.sk-toggleable {background-color: white;}#sk-container-id-1 label.sk-toggleable__label {cursor: pointer;display: block;width: 100%;margin-bottom: 0;padding: 0.3em;box-sizing: border-box;text-align: center;}#sk-container-id-1 label.sk-toggleable__label-arrow:before {content: \"▸\";float: left;margin-right: 0.25em;color: #696969;}#sk-container-id-1 label.sk-toggleable__label-arrow:hover:before {color: black;}#sk-container-id-1 div.sk-estimator:hover label.sk-toggleable__label-arrow:before {color: black;}#sk-container-id-1 div.sk-toggleable__content {max-height: 0;max-width: 0;overflow: hidden;text-align: left;background-color: #f0f8ff;}#sk-container-id-1 div.sk-toggleable__content pre {margin: 0.2em;color: black;border-radius: 0.25em;background-color: #f0f8ff;}#sk-container-id-1 input.sk-toggleable__control:checked~div.sk-toggleable__content {max-height: 200px;max-width: 100%;overflow: auto;}#sk-container-id-1 input.sk-toggleable__control:checked~label.sk-toggleable__label-arrow:before {content: \"▾\";}#sk-container-id-1 div.sk-estimator input.sk-toggleable__control:checked~label.sk-toggleable__label {background-color: #d4ebff;}#sk-container-id-1 div.sk-label input.sk-toggleable__control:checked~label.sk-toggleable__label {background-color: #d4ebff;}#sk-container-id-1 input.sk-hidden--visually {border: 0;clip: rect(1px 1px 1px 1px);clip: rect(1px, 1px, 1px, 1px);height: 1px;margin: -1px;overflow: hidden;padding: 0;position: absolute;width: 1px;}#sk-container-id-1 div.sk-estimator {font-family: monospace;background-color: #f0f8ff;border: 1px dotted black;border-radius: 0.25em;box-sizing: border-box;margin-bottom: 0.5em;}#sk-container-id-1 div.sk-estimator:hover {background-color: #d4ebff;}#sk-container-id-1 div.sk-parallel-item::after {content: \"\";width: 100%;border-bottom: 1px solid gray;flex-grow: 1;}#sk-container-id-1 div.sk-label:hover label.sk-toggleable__label {background-color: #d4ebff;}#sk-container-id-1 div.sk-serial::before {content: \"\";position: absolute;border-left: 1px solid gray;box-sizing: border-box;top: 0;bottom: 0;left: 50%;z-index: 0;}#sk-container-id-1 div.sk-serial {display: flex;flex-direction: column;align-items: center;background-color: white;padding-right: 0.2em;padding-left: 0.2em;position: relative;}#sk-container-id-1 div.sk-item {position: relative;z-index: 1;}#sk-container-id-1 div.sk-parallel {display: flex;align-items: stretch;justify-content: center;background-color: white;position: relative;}#sk-container-id-1 div.sk-item::before, #sk-container-id-1 div.sk-parallel-item::before {content: \"\";position: absolute;border-left: 1px solid gray;box-sizing: border-box;top: 0;bottom: 0;left: 50%;z-index: -1;}#sk-container-id-1 div.sk-parallel-item {display: flex;flex-direction: column;z-index: 1;position: relative;background-color: white;}#sk-container-id-1 div.sk-parallel-item:first-child::after {align-self: flex-end;width: 50%;}#sk-container-id-1 div.sk-parallel-item:last-child::after {align-self: flex-start;width: 50%;}#sk-container-id-1 div.sk-parallel-item:only-child::after {width: 0;}#sk-container-id-1 div.sk-dashed-wrapped {border: 1px dashed gray;margin: 0 0.4em 0.5em 0.4em;box-sizing: border-box;padding-bottom: 0.4em;background-color: white;}#sk-container-id-1 div.sk-label label {font-family: monospace;font-weight: bold;display: inline-block;line-height: 1.2em;}#sk-container-id-1 div.sk-label-container {text-align: center;}#sk-container-id-1 div.sk-container {/* jupyter's `normalize.less` sets `[hidden] { display: none; }` but bootstrap.min.css set `[hidden] { display: none !important; }` so we also need the `!important` here to be able to override the default hidden behavior on the sphinx rendered scikit-learn.org. See: https://github.com/scikit-learn/scikit-learn/issues/21755 */display: inline-block !important;position: relative;}#sk-container-id-1 div.sk-text-repr-fallback {display: none;}</style><div id=\"sk-container-id-1\" class=\"sk-top-container\"><div class=\"sk-text-repr-fallback\"><pre>LogisticRegression(max_iter=5000, multi_class=&#x27;multinomial&#x27;)</pre><b>In a Jupyter environment, please rerun this cell to show the HTML representation or trust the notebook. <br />On GitHub, the HTML representation is unable to render, please try loading this page with nbviewer.org.</b></div><div class=\"sk-container\" hidden><div class=\"sk-item\"><div class=\"sk-estimator sk-toggleable\"><input class=\"sk-toggleable__control sk-hidden--visually\" id=\"sk-estimator-id-1\" type=\"checkbox\" checked><label for=\"sk-estimator-id-1\" class=\"sk-toggleable__label sk-toggleable__label-arrow\">LogisticRegression</label><div class=\"sk-toggleable__content\"><pre>LogisticRegression(max_iter=5000, multi_class=&#x27;multinomial&#x27;)</pre></div></div></div></div></div>"
      ],
      "text/plain": [
       "LogisticRegression(max_iter=5000, multi_class='multinomial')"
      ]
     },
     "execution_count": 26,
     "metadata": {},
     "output_type": "execute_result"
    }
   ],
   "source": [
    "clf_final = LogisticRegression(multi_class='multinomial', solver='lbfgs', max_iter=5000)\n",
    "clf_final.fit(X_train_oof, y_train_enc)"
   ]
  },
  {
   "cell_type": "code",
   "execution_count": null,
   "id": "27b53885-859e-4bdf-bd84-8a9be6a01f25",
   "metadata": {},
   "outputs": [],
   "source": [
    "\n",
    "X_test = []\n",
    "for sid, lbl in zip(test_ids, test_labels):\n",
    "    mean, std, weights = load_sample(sid, lbl, vertices_dir, corr_dir)\n",
    "    probs_edge = sample_probs_per_edge(mean, std, weights, edges, coefs_full, intercepts_full)\n",
    "    X_test.append(build_vertex_features_for_sample(probs_edge, vertex_to_edges))\n",
    "X_test = np.vstack(X_test)\n",
    "y_test_enc = le.transform(test_labels)"
   ]
  },
  {
   "cell_type": "code",
   "execution_count": 27,
   "id": "1ceac02f-6d45-4c68-80a9-8ee7fcd03fed",
   "metadata": {
    "execution": {
     "iopub.execute_input": "2025-05-05T18:36:06.998505Z",
     "iopub.status.busy": "2025-05-05T18:36:06.994527Z",
     "iopub.status.idle": "2025-05-05T18:36:07.103923Z",
     "shell.execute_reply": "2025-05-05T18:36:07.102454Z",
     "shell.execute_reply.started": "2025-05-05T18:36:06.998434Z"
    },
    "tags": []
   },
   "outputs": [
    {
     "name": "stdout",
     "output_type": "stream",
     "text": [
      "OOF-based test accuracy: 0.955\n"
     ]
    }
   ],
   "source": [
    "acc = (clf_final.predict(X_test) == y_test_enc).mean()\n",
    "print(f\"OOF-based test accuracy: {acc:.3f}\")\n"
   ]
  },
  {
   "cell_type": "markdown",
   "id": "477a49b8-44e7-4be4-bc53-221d041242dd",
   "metadata": {
    "jp-MarkdownHeadingCollapsed": true,
    "tags": []
   },
   "source": [
    "# Averaging for vertices with entropy, RL"
   ]
  },
  {
   "cell_type": "code",
   "execution_count": 28,
   "id": "d19be6f9-defa-48d9-9766-457f99021805",
   "metadata": {
    "execution": {
     "iopub.execute_input": "2025-05-05T18:36:07.129602Z",
     "iopub.status.busy": "2025-05-05T18:36:07.128577Z",
     "iopub.status.idle": "2025-05-05T18:36:07.177758Z",
     "shell.execute_reply": "2025-05-05T18:36:07.176419Z",
     "shell.execute_reply.started": "2025-05-05T18:36:07.129561Z"
    },
    "tags": []
   },
   "outputs": [],
   "source": [
    "import numpy as np\n",
    "import scipy.special\n",
    "from collections import defaultdict\n",
    "\n",
    "def sample_edge_entropies(mean, std, weights, edges, coefs, intercepts):\n",
    "    X = np.stack([\n",
    "        mean[[i for i,_ in edges]],\n",
    "        std [[i for i,_ in edges]],\n",
    "        mean[[j for _,j in edges]],\n",
    "        std [[j for _,j in edges]],\n",
    "        weights\n",
    "    ], axis=1)  \n",
    "    logits = (coefs * X[:, None, :]).sum(axis=2) + intercepts \n",
    "    probs = scipy.special.softmax(logits, axis=1)           \n",
    "    eps = 1e-12\n",
    "    ent = -np.sum(probs * np.log(probs + eps), axis=1)       \n",
    "    return ent\n",
    "\n",
    "def build_vertex_features_from_entropies(entropies, vertex_to_edges):\n",
    "    feats = np.zeros(len(vertex_to_edges), dtype=entropies.dtype)\n",
    "    for v, incident in enumerate(vertex_to_edges):\n",
    "        if incident:\n",
    "            feats[v] = entropies[incident].mean()\n",
    "        else:\n",
    "            feats[v] = 0.0\n",
    "    return feats\n"
   ]
  },
  {
   "cell_type": "code",
   "execution_count": null,
   "id": "1e453020-9f8a-49e4-bb30-c25205a7ae7a",
   "metadata": {
    "tags": []
   },
   "outputs": [],
   "source": [
    "from sklearn.model_selection import KFold\n",
    "\n",
    "n_train    = means_train.shape[0]\n",
    "n_vertices = means_train.shape[1]\n",
    "\n",
    "le = LabelEncoder()\n",
    "y_train_enc = le.fit_transform(train_labels)\n",
    "\n",
    "X_train_oof = np.zeros((n_train, n_vertices), dtype=np.float32)\n",
    "\n",
    "kf = KFold(n_splits=3, shuffle=True, random_state=42)\n",
    "vertex_to_edges = build_vertex_edge_map(edges, n_vertices)\n",
    "\n",
    "for train_idx, val_idx in tqdm(kf.split(range(n_train))):\n",
    "    coefs_cv, intercepts_cv = train_edge_models(\n",
    "        means_train[train_idx],\n",
    "        stds_train[train_idx],\n",
    "        weights_train[train_idx],\n",
    "        y_train_enc[train_idx],\n",
    "        n_jobs=-1\n",
    "    )\n",
    "\n",
    "    for idx in val_idx:\n",
    "        mean_i, std_i, w_i = (\n",
    "            means_train[idx],\n",
    "            stds_train[idx],\n",
    "            weights_train[idx]\n",
    "        )\n",
    "\n",
    "        ent = sample_edge_entropies(\n",
    "            mean_i, std_i, w_i,\n",
    "            edges, coefs_cv, intercepts_cv\n",
    "        )\n",
    "\n",
    "        X_train_oof[idx] = build_vertex_features_from_entropies(\n",
    "            ent, vertex_to_edges\n",
    "        )\n"
   ]
  },
  {
   "cell_type": "code",
   "execution_count": 30,
   "id": "2fd1b7d7-4ce6-4492-bb1c-d0922990b8a0",
   "metadata": {
    "execution": {
     "iopub.execute_input": "2025-05-05T19:15:40.736932Z",
     "iopub.status.busy": "2025-05-05T19:15:40.736394Z",
     "iopub.status.idle": "2025-05-05T19:17:22.053776Z",
     "shell.execute_reply": "2025-05-05T19:17:22.052349Z",
     "shell.execute_reply.started": "2025-05-05T19:15:40.736902Z"
    }
   },
   "outputs": [
    {
     "data": {
      "text/html": [
       "<style>#sk-container-id-2 {color: black;background-color: white;}#sk-container-id-2 pre{padding: 0;}#sk-container-id-2 div.sk-toggleable {background-color: white;}#sk-container-id-2 label.sk-toggleable__label {cursor: pointer;display: block;width: 100%;margin-bottom: 0;padding: 0.3em;box-sizing: border-box;text-align: center;}#sk-container-id-2 label.sk-toggleable__label-arrow:before {content: \"▸\";float: left;margin-right: 0.25em;color: #696969;}#sk-container-id-2 label.sk-toggleable__label-arrow:hover:before {color: black;}#sk-container-id-2 div.sk-estimator:hover label.sk-toggleable__label-arrow:before {color: black;}#sk-container-id-2 div.sk-toggleable__content {max-height: 0;max-width: 0;overflow: hidden;text-align: left;background-color: #f0f8ff;}#sk-container-id-2 div.sk-toggleable__content pre {margin: 0.2em;color: black;border-radius: 0.25em;background-color: #f0f8ff;}#sk-container-id-2 input.sk-toggleable__control:checked~div.sk-toggleable__content {max-height: 200px;max-width: 100%;overflow: auto;}#sk-container-id-2 input.sk-toggleable__control:checked~label.sk-toggleable__label-arrow:before {content: \"▾\";}#sk-container-id-2 div.sk-estimator input.sk-toggleable__control:checked~label.sk-toggleable__label {background-color: #d4ebff;}#sk-container-id-2 div.sk-label input.sk-toggleable__control:checked~label.sk-toggleable__label {background-color: #d4ebff;}#sk-container-id-2 input.sk-hidden--visually {border: 0;clip: rect(1px 1px 1px 1px);clip: rect(1px, 1px, 1px, 1px);height: 1px;margin: -1px;overflow: hidden;padding: 0;position: absolute;width: 1px;}#sk-container-id-2 div.sk-estimator {font-family: monospace;background-color: #f0f8ff;border: 1px dotted black;border-radius: 0.25em;box-sizing: border-box;margin-bottom: 0.5em;}#sk-container-id-2 div.sk-estimator:hover {background-color: #d4ebff;}#sk-container-id-2 div.sk-parallel-item::after {content: \"\";width: 100%;border-bottom: 1px solid gray;flex-grow: 1;}#sk-container-id-2 div.sk-label:hover label.sk-toggleable__label {background-color: #d4ebff;}#sk-container-id-2 div.sk-serial::before {content: \"\";position: absolute;border-left: 1px solid gray;box-sizing: border-box;top: 0;bottom: 0;left: 50%;z-index: 0;}#sk-container-id-2 div.sk-serial {display: flex;flex-direction: column;align-items: center;background-color: white;padding-right: 0.2em;padding-left: 0.2em;position: relative;}#sk-container-id-2 div.sk-item {position: relative;z-index: 1;}#sk-container-id-2 div.sk-parallel {display: flex;align-items: stretch;justify-content: center;background-color: white;position: relative;}#sk-container-id-2 div.sk-item::before, #sk-container-id-2 div.sk-parallel-item::before {content: \"\";position: absolute;border-left: 1px solid gray;box-sizing: border-box;top: 0;bottom: 0;left: 50%;z-index: -1;}#sk-container-id-2 div.sk-parallel-item {display: flex;flex-direction: column;z-index: 1;position: relative;background-color: white;}#sk-container-id-2 div.sk-parallel-item:first-child::after {align-self: flex-end;width: 50%;}#sk-container-id-2 div.sk-parallel-item:last-child::after {align-self: flex-start;width: 50%;}#sk-container-id-2 div.sk-parallel-item:only-child::after {width: 0;}#sk-container-id-2 div.sk-dashed-wrapped {border: 1px dashed gray;margin: 0 0.4em 0.5em 0.4em;box-sizing: border-box;padding-bottom: 0.4em;background-color: white;}#sk-container-id-2 div.sk-label label {font-family: monospace;font-weight: bold;display: inline-block;line-height: 1.2em;}#sk-container-id-2 div.sk-label-container {text-align: center;}#sk-container-id-2 div.sk-container {/* jupyter's `normalize.less` sets `[hidden] { display: none; }` but bootstrap.min.css set `[hidden] { display: none !important; }` so we also need the `!important` here to be able to override the default hidden behavior on the sphinx rendered scikit-learn.org. See: https://github.com/scikit-learn/scikit-learn/issues/21755 */display: inline-block !important;position: relative;}#sk-container-id-2 div.sk-text-repr-fallback {display: none;}</style><div id=\"sk-container-id-2\" class=\"sk-top-container\"><div class=\"sk-text-repr-fallback\"><pre>LogisticRegression(max_iter=5000, multi_class=&#x27;multinomial&#x27;)</pre><b>In a Jupyter environment, please rerun this cell to show the HTML representation or trust the notebook. <br />On GitHub, the HTML representation is unable to render, please try loading this page with nbviewer.org.</b></div><div class=\"sk-container\" hidden><div class=\"sk-item\"><div class=\"sk-estimator sk-toggleable\"><input class=\"sk-toggleable__control sk-hidden--visually\" id=\"sk-estimator-id-2\" type=\"checkbox\" checked><label for=\"sk-estimator-id-2\" class=\"sk-toggleable__label sk-toggleable__label-arrow\">LogisticRegression</label><div class=\"sk-toggleable__content\"><pre>LogisticRegression(max_iter=5000, multi_class=&#x27;multinomial&#x27;)</pre></div></div></div></div></div>"
      ],
      "text/plain": [
       "LogisticRegression(max_iter=5000, multi_class='multinomial')"
      ]
     },
     "execution_count": 30,
     "metadata": {},
     "output_type": "execute_result"
    }
   ],
   "source": [
    "clf_final = LogisticRegression(multi_class='multinomial', solver='lbfgs', max_iter=5000)\n",
    "clf_final.fit(X_train_oof, y_train_enc)"
   ]
  },
  {
   "cell_type": "code",
   "execution_count": 31,
   "id": "7e81a1f6-30f1-44b8-a29a-04fe1b4a28e2",
   "metadata": {
    "execution": {
     "iopub.execute_input": "2025-05-05T19:17:22.058044Z",
     "iopub.status.busy": "2025-05-05T19:17:22.056568Z",
     "iopub.status.idle": "2025-05-05T19:21:15.656847Z",
     "shell.execute_reply": "2025-05-05T19:21:15.655741Z",
     "shell.execute_reply.started": "2025-05-05T19:17:22.058006Z"
    },
    "tags": []
   },
   "outputs": [],
   "source": [
    "n_test = len(test_ids)\n",
    "X_test = np.zeros((n_test, n_vertices), dtype=np.float32)\n",
    "\n",
    "for idx, (sid, lbl) in enumerate(zip(test_ids, test_labels)):\n",
    "    mean_i, std_i, w_i = load_sample(sid, lbl, vertices_dir, corr_dir)\n",
    "    ent = sample_edge_entropies(\n",
    "        mean_i, std_i, w_i,\n",
    "        edges, coefs_full, intercepts_full\n",
    "    )\n",
    "    X_test[idx] = build_vertex_features_from_entropies(ent, vertex_to_edges)"
   ]
  },
  {
   "cell_type": "code",
   "execution_count": 32,
   "id": "9d96e064-5565-4354-bb22-88939f7f2602",
   "metadata": {
    "execution": {
     "iopub.execute_input": "2025-05-05T19:21:15.659100Z",
     "iopub.status.busy": "2025-05-05T19:21:15.658478Z",
     "iopub.status.idle": "2025-05-05T19:21:15.691698Z",
     "shell.execute_reply": "2025-05-05T19:21:15.690927Z",
     "shell.execute_reply.started": "2025-05-05T19:21:15.659071Z"
    },
    "tags": []
   },
   "outputs": [
    {
     "name": "stdout",
     "output_type": "stream",
     "text": [
      "OOF-based test accuracy with entropy features: 0.712\n"
     ]
    }
   ],
   "source": [
    "y_test_enc = le.transform(test_labels)\n",
    "acc = (clf_final.predict(X_test) == y_test_enc).mean()\n",
    "print(f\"OOF-based test accuracy with entropy features: {acc:.3f}\")\n"
   ]
  },
  {
   "cell_type": "markdown",
   "id": "143f853e-fac5-47a3-8163-d0e8743c371e",
   "metadata": {
    "jp-MarkdownHeadingCollapsed": true,
    "tags": []
   },
   "source": [
    "# OOF averaging for vertices, LR"
   ]
  },
  {
   "cell_type": "code",
   "execution_count": 6,
   "id": "63ab517b-c648-419d-94a9-b7983b9f5a45",
   "metadata": {
    "execution": {
     "iopub.execute_input": "2025-05-06T15:43:23.236372Z",
     "iopub.status.busy": "2025-05-06T15:43:23.235223Z",
     "iopub.status.idle": "2025-05-06T15:43:23.248449Z",
     "shell.execute_reply": "2025-05-06T15:43:23.247825Z",
     "shell.execute_reply.started": "2025-05-06T15:43:23.236338Z"
    },
    "tags": []
   },
   "outputs": [],
   "source": [
    "def get_samples(vertices_folder, classes=None):\n",
    "    sample_ids, labels = [], []\n",
    "    for path in glob.glob(os.path.join(vertices_folder, '*_LR_*.pickle')):\n",
    "        fname = os.path.basename(path)\n",
    "        parts = fname.split('_')\n",
    "        sample_id = parts[0]\n",
    "        cls = parts[-1].split('.')[0]\n",
    "        if classes is None or cls in classes:\n",
    "            sample_ids.append(sample_id)\n",
    "            labels.append(cls)\n",
    "    return sample_ids, labels"
   ]
  },
  {
   "cell_type": "code",
   "execution_count": 10,
   "id": "9f04255f-1051-4147-b44f-8a3664e7fc18",
   "metadata": {
    "execution": {
     "iopub.execute_input": "2025-05-06T15:44:30.236257Z",
     "iopub.status.busy": "2025-05-06T15:44:30.235163Z",
     "iopub.status.idle": "2025-05-06T15:44:30.406091Z",
     "shell.execute_reply": "2025-05-06T15:44:30.405336Z",
     "shell.execute_reply.started": "2025-05-06T15:44:30.236220Z"
    },
    "tags": []
   },
   "outputs": [],
   "source": [
    "all_ids, all_labels = get_samples(vertices_dir)"
   ]
  },
  {
   "cell_type": "code",
   "execution_count": 7,
   "id": "67749e86-b3b3-4917-9854-c63439c78b43",
   "metadata": {
    "execution": {
     "iopub.execute_input": "2025-05-06T15:43:25.986642Z",
     "iopub.status.busy": "2025-05-06T15:43:25.985701Z",
     "iopub.status.idle": "2025-05-06T15:43:26.002412Z",
     "shell.execute_reply": "2025-05-06T15:43:26.001507Z",
     "shell.execute_reply.started": "2025-05-06T15:43:25.986612Z"
    },
    "tags": []
   },
   "outputs": [],
   "source": [
    "\n",
    "def load_sample(sample_id, label, vertices_folder, corr_folder, dtype=np.float32):\n",
    "    vfile = os.path.join(vertices_folder, f\"{sample_id}_LR_{label}.pickle\")\n",
    "    df_v = pd.read_pickle(vfile)\n",
    "    mean = df_v['mean'].values.astype(dtype)\n",
    "    std  = df_v['std'].values.astype(dtype)\n",
    "\n",
    "    cfile = os.path.join(corr_folder, f\"{sample_id}_LR_{label}.pkl\")\n",
    "    df_c = pd.read_pickle(cfile)\n",
    "    df_c['i'] = df_c['vertex_1'].str[1:].astype(int)\n",
    "    df_c['j'] = df_c['vertex_2'].str[1:].astype(int)\n",
    "    df_c.sort_values(['i', 'j'], inplace=True)\n",
    "    weights = df_c['weight'].values.astype(dtype)\n",
    "\n",
    "    return mean, std, weights\n",
    "\n",
    "\n"
   ]
  },
  {
   "cell_type": "code",
   "execution_count": 8,
   "id": "2715cfe0-58a3-4932-a4a9-9cf9bb384002",
   "metadata": {
    "execution": {
     "iopub.execute_input": "2025-05-06T15:43:26.691154Z",
     "iopub.status.busy": "2025-05-06T15:43:26.689502Z",
     "iopub.status.idle": "2025-05-06T15:43:26.706817Z",
     "shell.execute_reply": "2025-05-06T15:43:26.706090Z",
     "shell.execute_reply.started": "2025-05-06T15:43:26.691102Z"
    },
    "tags": []
   },
   "outputs": [],
   "source": [
    "def load_all_data(vertices_folder, corr_folder, sample_ids, labels, n_vertices=379, dtype=np.float32):\n",
    "    n_samples = len(sample_ids)\n",
    "    edges = build_edge_list(n_vertices)\n",
    "    n_edges = len(edges)\n",
    "\n",
    "    means_all = np.zeros((n_samples, n_vertices), dtype=dtype)\n",
    "    stds_all  = np.zeros((n_samples, n_vertices), dtype=dtype)\n",
    "    weights_all = np.zeros((n_samples, n_edges), dtype=dtype)\n",
    "\n",
    "    for idx, (sid, cls) in tqdm(enumerate(zip(sample_ids, labels))):\n",
    "        vfile = os.path.join(vertices_folder, f\"{sid}_LR_{cls}.pickle\")\n",
    "        df_v = pd.read_pickle(vfile)\n",
    "        means_all[idx] = df_v['mean'].values.astype(dtype)\n",
    "        stds_all[idx]  = df_v['std'].values.astype(dtype)\n",
    "\n",
    "        corr_file = os.path.join(corr_folder, f\"{sid}_LR_{cls}.pkl\")\n",
    "        df_c = pd.read_pickle(corr_file)\n",
    "        df_c['i'] = df_c['vertex_1'].str[1:].astype(int)\n",
    "        df_c['j'] = df_c['vertex_2'].str[1:].astype(int)\n",
    "        df_c.sort_values(['i', 'j'], inplace=True)\n",
    "        weights_all[idx] = df_c['weight'].values.astype(dtype)\n",
    "\n",
    "    return means_all, stds_all, weights_all, edges\n",
    "\n"
   ]
  },
  {
   "cell_type": "code",
   "execution_count": 48,
   "id": "f6118342-775f-465b-b0fa-bbd4d9aeb03a",
   "metadata": {
    "execution": {
     "iopub.execute_input": "2025-05-05T19:41:40.241738Z",
     "iopub.status.busy": "2025-05-05T19:41:40.240626Z",
     "iopub.status.idle": "2025-05-05T19:41:40.313688Z",
     "shell.execute_reply": "2025-05-05T19:41:40.313076Z",
     "shell.execute_reply.started": "2025-05-05T19:41:40.241706Z"
    },
    "tags": []
   },
   "outputs": [],
   "source": [
    "unique_ids = sorted(set(all_ids))\n",
    "train_subj, test_subj = train_test_split(unique_ids, test_size=0.25, random_state=42)\n",
    "train_ids = [sid for sid in all_ids if sid in train_subj]\n",
    "train_labels = [lbl for sid, lbl in zip(all_ids, all_labels) if sid in train_subj]\n",
    "test_ids = [sid for sid in all_ids if sid in test_subj]\n",
    "test_labels = [lbl for sid, lbl in zip(all_ids, all_labels) if sid in test_subj]"
   ]
  },
  {
   "cell_type": "code",
   "execution_count": 51,
   "id": "9ad72bea-3958-4d24-9c39-59784b81434e",
   "metadata": {
    "execution": {
     "iopub.execute_input": "2025-05-05T19:42:19.401107Z",
     "iopub.status.busy": "2025-05-05T19:42:19.400042Z",
     "iopub.status.idle": "2025-05-05T19:50:25.346823Z",
     "shell.execute_reply": "2025-05-05T19:50:25.345962Z",
     "shell.execute_reply.started": "2025-05-05T19:42:19.401079Z"
    },
    "tags": []
   },
   "outputs": [
    {
     "name": "stderr",
     "output_type": "stream",
     "text": [
      "6090it [08:05, 12.53it/s]\n"
     ]
    }
   ],
   "source": [
    "means_train, stds_train, weights_train, edges = load_all_data(\n",
    "    vertices_dir, corr_dir, train_ids, train_labels\n",
    ")\n",
    "le = LabelEncoder()\n",
    "y_train_enc = le.fit_transform(train_labels)"
   ]
  },
  {
   "cell_type": "code",
   "execution_count": null,
   "id": "100f350f-3735-4daa-9ed1-b7ead97c6f30",
   "metadata": {
    "tags": []
   },
   "outputs": [],
   "source": [
    "\n",
    "n_train = means_train.shape[0]\n",
    "n_vertices = means_train.shape[1]\n",
    "\n",
    "le = LabelEncoder()\n",
    "y_train_enc = le.fit_transform(train_labels)\n",
    "\n",
    "n_edge_classes = len(np.unique(y_train_enc))\n",
    "n_vertex_feats = n_vertices * n_edge_classes\n",
    "X_train_oof = np.zeros((n_train, n_vertex_feats), dtype=np.float32)\n",
    "\n",
    "kf = KFold(n_splits=3, shuffle=True, random_state=42)\n",
    "vertex_to_edges = build_vertex_edge_map(edges, n_vertices)\n",
    "\n",
    "for train_idx, val_idx in tqdm(kf.split(range(n_train))):\n",
    "    coefs_cv, intercepts_cv = train_edge_models(\n",
    "        means_train[train_idx], stds_train[train_idx],\n",
    "        weights_train[train_idx], y_train_enc[train_idx], n_jobs=-1\n",
    "    )\n",
    "\n",
    "    for idx in val_idx:\n",
    "        mean, std, weights = means_train[idx], stds_train[idx], weights_train[idx]\n",
    "        probs_edge = sample_probs_per_edge(mean, std, weights, edges, coefs_cv, intercepts_cv)\n",
    "        X_train_oof[idx] = build_vertex_features_for_sample(probs_edge, vertex_to_edges)"
   ]
  },
  {
   "cell_type": "code",
   "execution_count": null,
   "id": "46ebe55c-1b42-438f-bf27-9b3a6b12ec01",
   "metadata": {
    "tags": []
   },
   "outputs": [],
   "source": [
    "clf_final = LogisticRegression(multi_class='multinomial', solver='lbfgs', max_iter=5000)\n",
    "clf_final.fit(X_train_oof, y_train_enc)"
   ]
  },
  {
   "cell_type": "code",
   "execution_count": null,
   "id": "4710d234-4f47-4e4a-b212-58dd4f6f5788",
   "metadata": {
    "tags": []
   },
   "outputs": [],
   "source": [
    "\n",
    "coefs_full, intercepts_full = train_edge_models(\n",
    "    means_train, stds_train, weights_train, y_train_enc, n_jobs=-1\n",
    ")\n"
   ]
  },
  {
   "cell_type": "code",
   "execution_count": 56,
   "id": "da9937d4-7e0d-46f9-8f6f-b692bab8d6bc",
   "metadata": {
    "execution": {
     "iopub.execute_input": "2025-05-05T20:51:21.026245Z",
     "iopub.status.busy": "2025-05-05T20:51:21.025036Z",
     "iopub.status.idle": "2025-05-05T20:56:52.428164Z",
     "shell.execute_reply": "2025-05-05T20:56:52.426940Z",
     "shell.execute_reply.started": "2025-05-05T20:51:21.026197Z"
    },
    "tags": []
   },
   "outputs": [
    {
     "name": "stdout",
     "output_type": "stream",
     "text": [
      "OOF-based test accuracy: 0.917\n"
     ]
    }
   ],
   "source": [
    "\n",
    "X_test = []\n",
    "for sid, lbl in zip(test_ids, test_labels):\n",
    "    mean, std, weights = load_sample(sid, lbl, vertices_dir, corr_dir)\n",
    "    probs_edge = sample_probs_per_edge(mean, std, weights, edges, coefs_full, intercepts_full)\n",
    "    X_test.append(build_vertex_features_for_sample(probs_edge, vertex_to_edges))\n",
    "X_test = np.vstack(X_test)\n",
    "y_test_enc = le.transform(test_labels)\n",
    "\n",
    "\n",
    "acc = (clf_final.predict(X_test) == y_test_enc).mean()\n",
    "print(f\"OOF-based test accuracy: {acc:.3f}\")\n"
   ]
  },
  {
   "cell_type": "markdown",
   "id": "600e2b16-48ff-4015-94a4-498b324bdb55",
   "metadata": {
    "jp-MarkdownHeadingCollapsed": true,
    "tags": []
   },
   "source": [
    "# LR, double-nested CV strategy"
   ]
  },
  {
   "cell_type": "code",
   "execution_count": null,
   "id": "fca1845a-1d89-4b62-ae2d-9da158b1891d",
   "metadata": {},
   "outputs": [],
   "source": [
    "from sklearn.model_selection import KFold\n",
    "from sklearn.linear_model import LogisticRegression\n",
    "from sklearn.preprocessing import LabelEncoder\n",
    "import numpy as np\n",
    "\n",
    "\n",
    "means_all, stds_all, weights_all, edges = load_all_data(\n",
    "    vertices_dir, corr_dir, all_ids, all_labels\n",
    ")\n",
    "le = LabelEncoder()\n",
    "y_all = le.fit_transform(all_labels)\n",
    "\n",
    "K_outer = 4\n",
    "outer_cv = KFold(n_splits=K_outer, shuffle=True, random_state=42)\n"
   ]
  },
  {
   "cell_type": "code",
   "execution_count": 14,
   "id": "a6e3c075-d8c6-421f-8d07-e51480c589b0",
   "metadata": {
    "execution": {
     "iopub.execute_input": "2025-05-06T16:04:07.708562Z",
     "iopub.status.busy": "2025-05-06T16:04:07.707541Z",
     "iopub.status.idle": "2025-05-06T16:04:07.717451Z",
     "shell.execute_reply": "2025-05-06T16:04:07.716787Z",
     "shell.execute_reply.started": "2025-05-06T16:04:07.708524Z"
    },
    "tags": []
   },
   "outputs": [],
   "source": [
    "n_vertices = means_all.shape[1]\n",
    "num_edge_classes = len(np.unique(y_all))\n",
    "meta_oof = np.zeros((len(all_ids), n_vertices * num_edge_classes), dtype=np.float32)"
   ]
  },
  {
   "cell_type": "code",
   "execution_count": 28,
   "id": "317294b7-30fc-4696-a9d3-bbc64668def7",
   "metadata": {
    "execution": {
     "iopub.execute_input": "2025-05-06T16:58:22.286085Z",
     "iopub.status.busy": "2025-05-06T16:58:22.285288Z",
     "iopub.status.idle": "2025-05-06T16:58:22.301642Z",
     "shell.execute_reply": "2025-05-06T16:58:22.300966Z",
     "shell.execute_reply.started": "2025-05-06T16:58:22.286054Z"
    },
    "tags": []
   },
   "outputs": [],
   "source": [
    "\n",
    "def build_vertex_edge_map(edges, n_vertices):\n",
    "    vertex_to_edges = defaultdict(list)\n",
    "    for k, (i, j) in enumerate(edges):\n",
    "        vertex_to_edges[i].append(k)\n",
    "        vertex_to_edges[j].append(k)\n",
    "    return [vertex_to_edges[v] for v in range(n_vertices)]"
   ]
  },
  {
   "cell_type": "code",
   "execution_count": 30,
   "id": "dbb49bd8-eebe-4a19-b474-0289a7005bf3",
   "metadata": {
    "execution": {
     "iopub.execute_input": "2025-05-06T16:58:33.024947Z",
     "iopub.status.busy": "2025-05-06T16:58:33.024024Z",
     "iopub.status.idle": "2025-05-06T16:58:33.083891Z",
     "shell.execute_reply": "2025-05-06T16:58:33.083102Z",
     "shell.execute_reply.started": "2025-05-06T16:58:33.024916Z"
    },
    "tags": []
   },
   "outputs": [],
   "source": [
    "n_vertices = means_all.shape[1]\n",
    "vertex_to_edges = build_vertex_edge_map(edges, n_vertices)"
   ]
  },
  {
   "cell_type": "code",
   "execution_count": null,
   "id": "d6372249-b27c-405c-b70d-ebf29f347008",
   "metadata": {
    "tags": []
   },
   "outputs": [],
   "source": [
    "for outer_train_idx, outer_hold_idx in tqdm(outer_cv.split(all_ids)):\n",
    "    m_tr, s_tr, w_tr = means_all[outer_train_idx], stds_all[outer_train_idx], weights_all[outer_train_idx]\n",
    "    y_tr = y_all[outer_train_idx]\n",
    "    K_inner = 4\n",
    "    inner_cv = KFold(n_splits=K_inner, shuffle=True, random_state=42)\n",
    "    oof_feats = np.zeros((len(outer_train_idx), n_vertices * num_edge_classes), dtype=np.float32)\n",
    "\n",
    "    for inner_tr, inner_val in inner_cv.split(outer_train_idx):\n",
    "        tr_idx = outer_train_idx[inner_tr]\n",
    "        val_idx = outer_train_idx[inner_val]\n",
    "\n",
    "        coefs, inters = train_edge_models(\n",
    "            means_all[tr_idx], stds_all[tr_idx], weights_all[tr_idx], y_all[tr_idx]\n",
    "        )\n",
    "\n",
    "\n",
    "        for pos, idx in enumerate(val_idx):\n",
    "            m, s, w = means_all[idx], stds_all[idx], weights_all[idx]\n",
    "            probs = sample_probs_per_edge(m, s, w, edges, coefs, inters)\n",
    "            oof_feats[np.where(outer_train_idx==idx)[0][0]] = \\\n",
    "                build_vertex_features_for_sample(probs, vertex_to_edges)\n",
    "\n",
    "    \n",
    "    meta_oof[outer_train_idx] = oof_feats\n",
    "    coefs_full, inters_full = train_edge_models(\n",
    "        m_tr, s_tr, w_tr, y_tr\n",
    "    )\n",
    "\n",
    "    for pos, idx in enumerate(outer_hold_idx):\n",
    "        m, s, w = means_all[idx], stds_all[idx], weights_all[idx]\n",
    "        probs = sample_probs_per_edge(m, s, w, edges, coefs_full, inters_full)\n",
    "        meta_oof[idx] = build_vertex_features_for_sample(probs, vertex_to_edges)\n"
   ]
  },
  {
   "cell_type": "code",
   "execution_count": 33,
   "id": "9fb44daa-22de-4c6f-bc29-ec6b0080293c",
   "metadata": {
    "execution": {
     "iopub.execute_input": "2025-05-06T23:18:04.500374Z",
     "iopub.status.busy": "2025-05-06T23:18:04.499189Z",
     "iopub.status.idle": "2025-05-06T23:22:57.736786Z",
     "shell.execute_reply": "2025-05-06T23:22:57.735607Z",
     "shell.execute_reply.started": "2025-05-06T23:18:04.500326Z"
    },
    "tags": []
   },
   "outputs": [
    {
     "name": "stdout",
     "output_type": "stream",
     "text": [
      "LR tested accuracy: 0.982\n"
     ]
    }
   ],
   "source": [
    "\n",
    "clf_stack = LogisticRegression(multi_class='multinomial', solver='lbfgs', max_iter=5000)\n",
    "clf_stack.fit(meta_oof, y_all)\n",
    "\n",
    "oof_preds = clf_stack.predict(meta_oof)\n",
    "acc = (oof_preds == y_all).mean()\n",
    "print(f\"LR tested accuracy: {acc:.3f}\")\n"
   ]
  },
  {
   "cell_type": "markdown",
   "id": "4cf3679b-9a40-48d1-8120-eed8a4613993",
   "metadata": {
    "jp-MarkdownHeadingCollapsed": true,
    "tags": []
   },
   "source": [
    "# RL, double-nested CV strategy"
   ]
  },
  {
   "cell_type": "code",
   "execution_count": 35,
   "id": "2f31f23e-3e09-4e09-a055-e6039cfabc8f",
   "metadata": {
    "execution": {
     "iopub.execute_input": "2025-05-06T23:24:51.609531Z",
     "iopub.status.busy": "2025-05-06T23:24:51.608368Z",
     "iopub.status.idle": "2025-05-06T23:24:51.622875Z",
     "shell.execute_reply": "2025-05-06T23:24:51.622234Z",
     "shell.execute_reply.started": "2025-05-06T23:24:51.609496Z"
    }
   },
   "outputs": [],
   "source": [
    "def get_samples(vertices_folder, classes=None):\n",
    "    sample_ids, labels = [], []\n",
    "    for path in glob.glob(os.path.join(vertices_folder, '*_RL_*.pickle')):\n",
    "        fname = os.path.basename(path)\n",
    "        parts = fname.split('_')\n",
    "        sample_id = parts[0]\n",
    "        cls = parts[-1].split('.')[0]\n",
    "        if classes is None or cls in classes:\n",
    "            sample_ids.append(sample_id)\n",
    "            labels.append(cls)\n",
    "    return sample_ids, labels\n",
    "\n",
    "\n",
    "def load_sample(sample_id, label, vertices_folder, corr_folder, dtype=np.float32):\n",
    "    vfile = os.path.join(vertices_folder, f\"{sample_id}_RL_{label}.pickle\")\n",
    "    df_v = pd.read_pickle(vfile)\n",
    "    mean = df_v['mean'].values.astype(dtype)\n",
    "    std  = df_v['std'].values.astype(dtype)\n",
    "\n",
    "    cfile = os.path.join(corr_folder, f\"{sample_id}_RL_{label}.pkl\")\n",
    "    df_c = pd.read_pickle(cfile)\n",
    "    df_c['i'] = df_c['vertex_1'].str[1:].astype(int)\n",
    "    df_c['j'] = df_c['vertex_2'].str[1:].astype(int)\n",
    "    df_c.sort_values(['i', 'j'], inplace=True)\n",
    "    weights = df_c['weight'].values.astype(dtype)\n",
    "\n",
    "    return mean, std, weights\n",
    "\n",
    "\n"
   ]
  },
  {
   "cell_type": "code",
   "execution_count": 38,
   "id": "63c84927-56c5-4bdd-99dd-2f5908a2ece2",
   "metadata": {
    "execution": {
     "iopub.execute_input": "2025-05-06T23:25:34.578220Z",
     "iopub.status.busy": "2025-05-06T23:25:34.577050Z",
     "iopub.status.idle": "2025-05-06T23:25:34.590414Z",
     "shell.execute_reply": "2025-05-06T23:25:34.589710Z",
     "shell.execute_reply.started": "2025-05-06T23:25:34.578183Z"
    }
   },
   "outputs": [],
   "source": [
    "def load_all_data(vertices_folder, corr_folder, sample_ids, labels, n_vertices=379, dtype=np.float32):\n",
    "    n_samples = len(sample_ids)\n",
    "    edges = build_edge_list(n_vertices)\n",
    "    n_edges = len(edges)\n",
    "\n",
    "    means_all = np.zeros((n_samples, n_vertices), dtype=dtype)\n",
    "    stds_all  = np.zeros((n_samples, n_vertices), dtype=dtype)\n",
    "    weights_all = np.zeros((n_samples, n_edges), dtype=dtype)\n",
    "\n",
    "    for idx, (sid, cls) in tqdm(enumerate(zip(sample_ids, labels))):\n",
    "        vfile = os.path.join(vertices_folder, f\"{sid}_RL_{cls}.pickle\")\n",
    "        df_v = pd.read_pickle(vfile)\n",
    "        means_all[idx] = df_v['mean'].values.astype(dtype)\n",
    "        stds_all[idx]  = df_v['std'].values.astype(dtype)\n",
    "\n",
    "        corr_file = os.path.join(corr_folder, f\"{sid}_RL_{cls}.pkl\")\n",
    "        df_c = pd.read_pickle(corr_file)\n",
    "        df_c['i'] = df_c['vertex_1'].str[1:].astype(int)\n",
    "        df_c['j'] = df_c['vertex_2'].str[1:].astype(int)\n",
    "        df_c.sort_values(['i', 'j'], inplace=True)\n",
    "        weights_all[idx] = df_c['weight'].values.astype(dtype)\n",
    "\n",
    "    return means_all, stds_all, weights_all, edges"
   ]
  },
  {
   "cell_type": "code",
   "execution_count": 40,
   "id": "c386bb67-1272-4d5e-b890-7e431b024bf1",
   "metadata": {
    "execution": {
     "iopub.execute_input": "2025-05-06T23:25:36.439908Z",
     "iopub.status.busy": "2025-05-06T23:25:36.438994Z",
     "iopub.status.idle": "2025-05-06T23:38:00.383175Z",
     "shell.execute_reply": "2025-05-06T23:38:00.382152Z",
     "shell.execute_reply.started": "2025-05-06T23:25:36.439876Z"
    },
    "tags": []
   },
   "outputs": [
    {
     "name": "stderr",
     "output_type": "stream",
     "text": [
      "8134it [12:23, 10.93it/s]\n"
     ]
    }
   ],
   "source": [
    "means_all, stds_all, weights_all, edges = load_all_data(\n",
    "    vertices_dir, corr_dir, all_ids, all_labels\n",
    ")\n",
    "le = LabelEncoder()\n",
    "y_all = le.fit_transform(all_labels)\n",
    "\n",
    "K_outer = 4\n",
    "outer_cv = KFold(n_splits=K_outer, shuffle=True, random_state=42)\n"
   ]
  },
  {
   "cell_type": "code",
   "execution_count": 41,
   "id": "59e3bfc7-1050-4aa4-a7c9-5525ba45c7d1",
   "metadata": {
    "execution": {
     "iopub.execute_input": "2025-05-06T23:38:00.385916Z",
     "iopub.status.busy": "2025-05-06T23:38:00.385096Z",
     "iopub.status.idle": "2025-05-06T23:38:00.406232Z",
     "shell.execute_reply": "2025-05-06T23:38:00.405538Z",
     "shell.execute_reply.started": "2025-05-06T23:38:00.385880Z"
    }
   },
   "outputs": [],
   "source": [
    "n_vertices = means_all.shape[1]\n",
    "num_edge_classes = len(np.unique(y_all))\n",
    "meta_oof = np.zeros((len(all_ids), n_vertices * num_edge_classes), dtype=np.float32)"
   ]
  },
  {
   "cell_type": "code",
   "execution_count": 42,
   "id": "80d6ff82-e447-4642-a80f-fb0b5d0206f7",
   "metadata": {
    "execution": {
     "iopub.execute_input": "2025-05-06T23:38:00.407799Z",
     "iopub.status.busy": "2025-05-06T23:38:00.407132Z",
     "iopub.status.idle": "2025-05-06T23:38:00.420181Z",
     "shell.execute_reply": "2025-05-06T23:38:00.419353Z",
     "shell.execute_reply.started": "2025-05-06T23:38:00.407765Z"
    }
   },
   "outputs": [],
   "source": [
    "\n",
    "def build_vertex_edge_map(edges, n_vertices):\n",
    "    vertex_to_edges = defaultdict(list)\n",
    "    for k, (i, j) in enumerate(edges):\n",
    "        vertex_to_edges[i].append(k)\n",
    "        vertex_to_edges[j].append(k)\n",
    "    return [vertex_to_edges[v] for v in range(n_vertices)]"
   ]
  },
  {
   "cell_type": "code",
   "execution_count": 43,
   "id": "7cb7ef49-8688-4061-968f-88dd4a2ef551",
   "metadata": {
    "execution": {
     "iopub.execute_input": "2025-05-06T23:38:00.422521Z",
     "iopub.status.busy": "2025-05-06T23:38:00.421877Z",
     "iopub.status.idle": "2025-05-06T23:38:00.464208Z",
     "shell.execute_reply": "2025-05-06T23:38:00.463323Z",
     "shell.execute_reply.started": "2025-05-06T23:38:00.422493Z"
    }
   },
   "outputs": [],
   "source": [
    "n_vertices = means_all.shape[1]\n",
    "vertex_to_edges = build_vertex_edge_map(edges, n_vertices)"
   ]
  },
  {
   "cell_type": "code",
   "execution_count": null,
   "id": "a0d17b15-c203-4e69-8114-81fd0f217b41",
   "metadata": {
    "tags": []
   },
   "outputs": [],
   "source": [
    "for outer_train_idx, outer_hold_idx in tqdm(outer_cv.split(all_ids)):\n",
    "    m_tr, s_tr, w_tr = means_all[outer_train_idx], stds_all[outer_train_idx], weights_all[outer_train_idx]\n",
    "    y_tr = y_all[outer_train_idx]\n",
    "    K_inner = 4\n",
    "    inner_cv = KFold(n_splits=K_inner, shuffle=True, random_state=42)\n",
    "    oof_feats = np.zeros((len(outer_train_idx), n_vertices * num_edge_classes), dtype=np.float32)\n",
    "\n",
    "    for inner_tr, inner_val in inner_cv.split(outer_train_idx):\n",
    "        tr_idx = outer_train_idx[inner_tr]\n",
    "        val_idx = outer_train_idx[inner_val]\n",
    "\n",
    "        coefs, inters = train_edge_models(\n",
    "            means_all[tr_idx], stds_all[tr_idx], weights_all[tr_idx], y_all[tr_idx]\n",
    "        )\n",
    "\n",
    "        for pos, idx in enumerate(val_idx):\n",
    "            m, s, w = means_all[idx], stds_all[idx], weights_all[idx]\n",
    "            probs = sample_probs_per_edge(m, s, w, edges, coefs, inters)\n",
    "            oof_feats[np.where(outer_train_idx==idx)[0][0]] = \\\n",
    "                build_vertex_features_for_sample(probs, vertex_to_edges)\n",
    "\n",
    "\n",
    "    meta_oof[outer_train_idx] = oof_feats\n",
    "    coefs_full, inters_full = train_edge_models(\n",
    "        m_tr, s_tr, w_tr, y_tr\n",
    "    )\n",
    "    for pos, idx in enumerate(outer_hold_idx):\n",
    "        m, s, w = means_all[idx], stds_all[idx], weights_all[idx]\n",
    "        probs = sample_probs_per_edge(m, s, w, edges, coefs_full, inters_full)\n",
    "        meta_oof[idx] = build_vertex_features_for_sample(probs, vertex_to_edges)\n"
   ]
  },
  {
   "cell_type": "code",
   "execution_count": 45,
   "id": "45d984ab-0cac-4121-8796-b88fb6d90486",
   "metadata": {
    "execution": {
     "iopub.execute_input": "2025-05-07T05:10:26.755108Z",
     "iopub.status.busy": "2025-05-07T05:10:26.753804Z",
     "iopub.status.idle": "2025-05-07T05:13:22.780636Z",
     "shell.execute_reply": "2025-05-07T05:13:22.779061Z",
     "shell.execute_reply.started": "2025-05-07T05:10:26.755068Z"
    }
   },
   "outputs": [
    {
     "name": "stdout",
     "output_type": "stream",
     "text": [
      "RL tested accuracy: 0.994\n"
     ]
    }
   ],
   "source": [
    "\n",
    "clf_stack = LogisticRegression(multi_class='multinomial', solver='lbfgs', max_iter=5000)\n",
    "clf_stack.fit(meta_oof, y_all)\n",
    "\n",
    "oof_preds = clf_stack.predict(meta_oof)\n",
    "acc = (oof_preds == y_all).mean()\n",
    "print(f\"RL tested accuracy: {acc:.3f}\")\n"
   ]
  }
 ],
 "metadata": {
  "kernelspec": {
   "display_name": "DataSphere Kernel",
   "language": "python",
   "name": "python3"
  },
  "language_info": {
   "codemirror_mode": {
    "name": "ipython",
    "version": 3
   },
   "file_extension": ".py",
   "mimetype": "text/x-python",
   "name": "python",
   "nbconvert_exporter": "python",
   "pygments_lexer": "ipython3",
   "version": "3.10.12"
  }
 },
 "nbformat": 4,
 "nbformat_minor": 5
}
